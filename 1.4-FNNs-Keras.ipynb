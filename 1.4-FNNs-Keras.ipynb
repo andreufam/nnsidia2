{
 "cells": [
  {
   "cell_type": "markdown",
   "metadata": {},
   "source": [
    "# FNNs com Keras"
   ]
  },
  {
   "cell_type": "markdown",
   "metadata": {},
   "source": [
    "A biblioteca Keras fornece uma API padrão de alto nível para acessar o tensorflow. A seguir vamos ver como implementar algumas das técnicas anteriores usando Keras. Note que a API implementada na aula anterior foi inspirada na do Keras, modo sequencial, que é descrita a seguir, usando exemplos."
   ]
  },
  {
   "cell_type": "code",
   "execution_count": 1,
   "metadata": {},
   "outputs": [
    {
     "name": "stderr",
     "output_type": "stream",
     "text": [
      "E:\\Anaconda\\lib\\site-packages\\h5py\\__init__.py:34: FutureWarning: Conversion of the second argument of issubdtype from `float` to `np.floating` is deprecated. In future, it will be treated as `np.float64 == np.dtype(float).type`.\n",
      "  from ._conv import register_converters as _register_converters\n",
      "Using TensorFlow backend.\n"
     ]
    }
   ],
   "source": [
    "import keras\n",
    "from keras.models import Sequential\n",
    "from keras.layers import Dense, Activation, Dropout, \\\n",
    "    Convolution2D, Flatten, MaxPooling2D, Reshape, InputLayer"
   ]
  },
  {
   "cell_type": "markdown",
   "metadata": {},
   "source": [
    "Como antes, vamos usar a coleção MNIST. Desta vez, vamos ter tantos neurônios na camada de saída quanto as classes em MNIST (10). Assim, vamos usar codificação _one-hot_ na classe."
   ]
  },
  {
   "cell_type": "code",
   "execution_count": 2,
   "metadata": {},
   "outputs": [
    {
     "name": "stdout",
     "output_type": "stream",
     "text": [
      "WARNING:tensorflow:From <ipython-input-2-430f90e09ae6>:2: read_data_sets (from tensorflow.contrib.learn.python.learn.datasets.mnist) is deprecated and will be removed in a future version.\n",
      "Instructions for updating:\n",
      "Please use alternatives such as official/mnist/dataset.py from tensorflow/models.\n",
      "WARNING:tensorflow:From E:\\Anaconda\\lib\\site-packages\\tensorflow\\contrib\\learn\\python\\learn\\datasets\\mnist.py:260: maybe_download (from tensorflow.contrib.learn.python.learn.datasets.base) is deprecated and will be removed in a future version.\n",
      "Instructions for updating:\n",
      "Please write your own downloading logic.\n",
      "WARNING:tensorflow:From E:\\Anaconda\\lib\\site-packages\\tensorflow\\contrib\\learn\\python\\learn\\datasets\\mnist.py:262: extract_images (from tensorflow.contrib.learn.python.learn.datasets.mnist) is deprecated and will be removed in a future version.\n",
      "Instructions for updating:\n",
      "Please use tf.data to implement this functionality.\n",
      "Extracting data/MNIST_data\\train-images-idx3-ubyte.gz\n",
      "WARNING:tensorflow:From E:\\Anaconda\\lib\\site-packages\\tensorflow\\contrib\\learn\\python\\learn\\datasets\\mnist.py:267: extract_labels (from tensorflow.contrib.learn.python.learn.datasets.mnist) is deprecated and will be removed in a future version.\n",
      "Instructions for updating:\n",
      "Please use tf.data to implement this functionality.\n",
      "Extracting data/MNIST_data\\train-labels-idx1-ubyte.gz\n",
      "WARNING:tensorflow:From E:\\Anaconda\\lib\\site-packages\\tensorflow\\contrib\\learn\\python\\learn\\datasets\\mnist.py:110: dense_to_one_hot (from tensorflow.contrib.learn.python.learn.datasets.mnist) is deprecated and will be removed in a future version.\n",
      "Instructions for updating:\n",
      "Please use tf.one_hot on tensors.\n",
      "Extracting data/MNIST_data\\t10k-images-idx3-ubyte.gz\n",
      "Extracting data/MNIST_data\\t10k-labels-idx1-ubyte.gz\n",
      "WARNING:tensorflow:From E:\\Anaconda\\lib\\site-packages\\tensorflow\\contrib\\learn\\python\\learn\\datasets\\mnist.py:290: DataSet.__init__ (from tensorflow.contrib.learn.python.learn.datasets.mnist) is deprecated and will be removed in a future version.\n",
      "Instructions for updating:\n",
      "Please use alternatives such as official/mnist/dataset.py from tensorflow/models.\n"
     ]
    }
   ],
   "source": [
    "from tensorflow.examples.tutorials.mnist import input_data\n",
    "mnist = input_data.read_data_sets('data/MNIST_data', one_hot=True)"
   ]
  },
  {
   "cell_type": "markdown",
   "metadata": {},
   "source": [
    "Inicialmente, vamos criar uma arquitetura larga. Ela tem 250 neurônios em uma única camada escondida. Ela será treinada em 5 épocas com mini-batches de tamanho 128."
   ]
  },
  {
   "cell_type": "code",
   "execution_count": 3,
   "metadata": {},
   "outputs": [
    {
     "data": {
      "text/plain": [
       "(55000, 784)"
      ]
     },
     "execution_count": 3,
     "metadata": {},
     "output_type": "execute_result"
    }
   ],
   "source": [
    "# define vars\n",
    "input_num_units = 28*28\n",
    "hidden_num_units = 250\n",
    "output_num_units = 10\n",
    "epochs = 5\n",
    "batch_size = 128\n",
    "\n",
    "model = Sequential()\n",
    "model.add(Dense(units=hidden_num_units, \n",
    "       input_dim=input_num_units, activation='relu'))\n",
    "model.add(Dense(units=output_num_units, \n",
    "       input_dim=hidden_num_units, activation='softmax'))\n",
    "\n",
    "mnist.train.images.shape"
   ]
  },
  {
   "cell_type": "markdown",
   "metadata": {},
   "source": [
    "Vamos treiná-la usando como função de perda a entropia cruzada, com algoritmo de otimização Adam (gradiente descendente com momento) e avaliá-la em termos de acurácia:"
   ]
  },
  {
   "cell_type": "code",
   "execution_count": 13,
   "metadata": {},
   "outputs": [
    {
     "name": "stdout",
     "output_type": "stream",
     "text": [
      "Train on 55000 samples, validate on 5000 samples\n",
      "Epoch 1/5\n",
      "55000/55000 [==============================] - 2s 37us/step - loss: 0.3274 - acc: 0.9085 - val_loss: 0.1710 - val_acc: 0.9520\n",
      "Epoch 2/5\n",
      "55000/55000 [==============================] - 2s 32us/step - loss: 0.1451 - acc: 0.9587 - val_loss: 0.1243 - val_acc: 0.9648\n",
      "Epoch 3/5\n",
      "55000/55000 [==============================] - 2s 30us/step - loss: 0.0993 - acc: 0.9712 - val_loss: 0.0948 - val_acc: 0.9724\n",
      "Epoch 4/5\n",
      "55000/55000 [==============================] - 2s 29us/step - loss: 0.0732 - acc: 0.9790 - val_loss: 0.0859 - val_acc: 0.9754\n",
      "Epoch 5/5\n",
      "55000/55000 [==============================] - 2s 30us/step - loss: 0.0568 - acc: 0.9833 - val_loss: 0.0741 - val_acc: 0.9760\n"
     ]
    }
   ],
   "source": [
    "model.compile(loss='categorical_crossentropy', \n",
    "              optimizer='adam', metrics=['accuracy'])\n",
    "\n",
    "trained_model_500 = model.fit(mnist.train.images, mnist.train.labels, \n",
    "                              epochs=epochs, \n",
    "                              batch_size=batch_size, \n",
    "                              validation_data=(mnist.validation.images, \n",
    "                                               mnist.validation.labels))"
   ]
  },
  {
   "cell_type": "code",
   "execution_count": 14,
   "metadata": {},
   "outputs": [
    {
     "name": "stdout",
     "output_type": "stream",
     "text": [
      "_________________________________________________________________\n",
      "Layer (type)                 Output Shape              Param #   \n",
      "=================================================================\n",
      "dense_14 (Dense)             (None, 250)               196250    \n",
      "_________________________________________________________________\n",
      "dense_15 (Dense)             (None, 10)                2510      \n",
      "=================================================================\n",
      "Total params: 198,760\n",
      "Trainable params: 198,760\n",
      "Non-trainable params: 0\n",
      "_________________________________________________________________\n"
     ]
    }
   ],
   "source": [
    "model.summary()"
   ]
  },
  {
   "cell_type": "markdown",
   "metadata": {},
   "source": [
    "Uma dúvida que surge é se uma rede profunda, com o mesmo número de nerônios ocultos, porém através de 5 camadas, é capaz de algo melhor. É o que vamos ver na arquitetura seguinte."
   ]
  },
  {
   "cell_type": "code",
   "execution_count": 9,
   "metadata": {
    "collapsed": true
   },
   "outputs": [],
   "source": [
    "# define vars\n",
    "input_num_units = 784\n",
    "hidden1_num_units = 50\n",
    "hidden2_num_units = 50\n",
    "hidden3_num_units = 50\n",
    "hidden4_num_units = 50\n",
    "hidden5_num_units = 50\n",
    "output_num_units = 10\n",
    "\n",
    "epochs = 5\n",
    "batch_size = 128\n",
    "\n",
    "model = Sequential([\n",
    " Dense(units=hidden1_num_units, \n",
    "       input_dim=input_num_units, activation='relu'),\n",
    " Dense(units=hidden2_num_units, \n",
    "       input_dim=hidden1_num_units, activation='relu'),\n",
    " Dense(units=hidden3_num_units, \n",
    "       input_dim=hidden2_num_units, activation='relu'),\n",
    " Dense(units=hidden4_num_units, \n",
    "       input_dim=hidden3_num_units, activation='relu'),\n",
    " Dense(units=hidden5_num_units, \n",
    "       input_dim=hidden4_num_units, activation='relu'),\n",
    " Dense(units=output_num_units, \n",
    "       input_dim=hidden5_num_units, activation='softmax'),\n",
    " ])\n",
    "\n",
    "model.compile(loss='categorical_crossentropy', \n",
    "              optimizer='adam', metrics=['accuracy'])"
   ]
  },
  {
   "cell_type": "code",
   "execution_count": 10,
   "metadata": {},
   "outputs": [
    {
     "name": "stdout",
     "output_type": "stream",
     "text": [
      "Train on 55000 samples, validate on 5000 samples\n",
      "Epoch 1/5\n",
      "55000/55000 [==============================] - 3s 51us/step - loss: 0.4571 - acc: 0.8570 - val_loss: 0.1882 - val_acc: 0.9400\n",
      "Epoch 2/5\n",
      "55000/55000 [==============================] - 2s 42us/step - loss: 0.1680 - acc: 0.9490 - val_loss: 0.1322 - val_acc: 0.9610\n",
      "Epoch 3/5\n",
      "55000/55000 [==============================] - 2s 43us/step - loss: 0.1232 - acc: 0.9628 - val_loss: 0.1114 - val_acc: 0.9668\n",
      "Epoch 4/5\n",
      "55000/55000 [==============================] - 2s 42us/step - loss: 0.1024 - acc: 0.9694 - val_loss: 0.1315 - val_acc: 0.9618\n",
      "Epoch 5/5\n",
      "55000/55000 [==============================] - 2s 43us/step - loss: 0.0866 - acc: 0.9739 - val_loss: 0.1035 - val_acc: 0.9684\n"
     ]
    }
   ],
   "source": [
    "trained_model_5d = model.fit(mnist.train.images, mnist.train.labels, \n",
    "                              epochs=epochs, \n",
    "                              batch_size=batch_size, \n",
    "                              validation_data=(mnist.validation.images, \n",
    "                                               mnist.validation.labels))"
   ]
  },
  {
   "cell_type": "markdown",
   "metadata": {},
   "source": [
    "Uma forma de melhorar o resultado talvez seja usar Dropout. Vamos ver como se comporta, usando uma taxa de droput de 20%:"
   ]
  },
  {
   "cell_type": "code",
   "execution_count": 11,
   "metadata": {},
   "outputs": [
    {
     "name": "stdout",
     "output_type": "stream",
     "text": [
      "_________________________________________________________________\n",
      "Layer (type)                 Output Shape              Param #   \n",
      "=================================================================\n",
      "dense_8 (Dense)              (None, 50)                39250     \n",
      "_________________________________________________________________\n",
      "dense_9 (Dense)              (None, 50)                2550      \n",
      "_________________________________________________________________\n",
      "dense_10 (Dense)             (None, 50)                2550      \n",
      "_________________________________________________________________\n",
      "dense_11 (Dense)             (None, 50)                2550      \n",
      "_________________________________________________________________\n",
      "dense_12 (Dense)             (None, 50)                2550      \n",
      "_________________________________________________________________\n",
      "dense_13 (Dense)             (None, 10)                510       \n",
      "=================================================================\n",
      "Total params: 49,960\n",
      "Trainable params: 49,960\n",
      "Non-trainable params: 0\n",
      "_________________________________________________________________\n"
     ]
    }
   ],
   "source": [
    "model.summary()"
   ]
  },
  {
   "cell_type": "code",
   "execution_count": 15,
   "metadata": {
    "collapsed": true
   },
   "outputs": [],
   "source": [
    "# define vars\n",
    "input_num_units = 784\n",
    "hidden1_num_units = 50\n",
    "hidden2_num_units = 50\n",
    "hidden3_num_units = 50\n",
    "hidden4_num_units = 50\n",
    "hidden5_num_units = 50\n",
    "output_num_units = 10\n",
    "\n",
    "epochs = 5\n",
    "batch_size = 128\n",
    "\n",
    "dropout_ratio = 0.2\n",
    "\n",
    "model = Sequential([\n",
    " Dense(units=hidden1_num_units, \n",
    "       input_dim=input_num_units, activation='relu'),\n",
    " Dropout(dropout_ratio),\n",
    " Dense(units=hidden2_num_units, \n",
    "       input_dim=hidden1_num_units, activation='relu'),\n",
    " Dropout(dropout_ratio),\n",
    " Dense(units=hidden3_num_units, \n",
    "       input_dim=hidden2_num_units, activation='relu'),\n",
    " Dropout(dropout_ratio),\n",
    " Dense(units=hidden4_num_units, \n",
    "       input_dim=hidden3_num_units, activation='relu'),\n",
    " Dropout(dropout_ratio),\n",
    " Dense(units=hidden5_num_units, \n",
    "       input_dim=hidden4_num_units, activation='relu'),\n",
    " Dropout(dropout_ratio),\n",
    "\n",
    "Dense(units=output_num_units, \n",
    "      input_dim=hidden5_num_units, activation='softmax'),\n",
    " ])"
   ]
  },
  {
   "cell_type": "code",
   "execution_count": 16,
   "metadata": {},
   "outputs": [
    {
     "name": "stdout",
     "output_type": "stream",
     "text": [
      "Train on 55000 samples, validate on 5000 samples\n",
      "Epoch 1/5\n",
      "55000/55000 [==============================] - 4s 64us/step - loss: 0.9033 - acc: 0.7042 - val_loss: 0.2575 - val_acc: 0.9298\n",
      "Epoch 2/5\n",
      "55000/55000 [==============================] - 3s 50us/step - loss: 0.3859 - acc: 0.8951 - val_loss: 0.1971 - val_acc: 0.9456\n",
      "Epoch 3/5\n",
      "55000/55000 [==============================] - 3s 49us/step - loss: 0.3103 - acc: 0.9179 - val_loss: 0.1748 - val_acc: 0.9524\n",
      "Epoch 4/5\n",
      "55000/55000 [==============================] - 3s 49us/step - loss: 0.2730 - acc: 0.9290 - val_loss: 0.1714 - val_acc: 0.9542\n",
      "Epoch 5/5\n",
      "55000/55000 [==============================] - 3s 50us/step - loss: 0.2450 - acc: 0.9363 - val_loss: 0.1445 - val_acc: 0.9616\n"
     ]
    }
   ],
   "source": [
    "model.compile(loss='categorical_crossentropy', \n",
    "              optimizer='adam', metrics=['accuracy'])\n",
    "\n",
    "trained_model_5d_drop = model.fit(mnist.train.images, mnist.train.labels, \n",
    "                              epochs=epochs, \n",
    "                              batch_size=batch_size, \n",
    "                              validation_data=(mnist.validation.images, \n",
    "                                               mnist.validation.labels))"
   ]
  },
  {
   "cell_type": "markdown",
   "metadata": {},
   "source": [
    "O desempenho piorou. Uma razão possível talvez seja o fato de que não estamos treinando o suficiente. Assim, vamos aumentar o número de épocas."
   ]
  },
  {
   "cell_type": "code",
   "execution_count": 17,
   "metadata": {
    "collapsed": true
   },
   "outputs": [],
   "source": [
    "# define vars\n",
    "input_num_units = 784\n",
    "hidden1_num_units = 50\n",
    "hidden2_num_units = 50\n",
    "hidden3_num_units = 50\n",
    "hidden4_num_units = 50\n",
    "hidden5_num_units = 50\n",
    "output_num_units = 10\n",
    "\n",
    "epochs = 50\n",
    "batch_size = 128\n",
    "\n",
    "dropout_ratio = 0.2\n",
    "\n",
    "model = Sequential([\n",
    " Dense(units=hidden1_num_units, \n",
    "       input_dim=input_num_units, activation='relu'),\n",
    " Dropout(dropout_ratio),\n",
    " Dense(units=hidden2_num_units, \n",
    "       input_dim=hidden1_num_units, activation='relu'),\n",
    " Dropout(dropout_ratio),\n",
    " Dense(units=hidden3_num_units, \n",
    "       input_dim=hidden2_num_units, activation='relu'),\n",
    " Dropout(dropout_ratio),\n",
    " Dense(units=hidden4_num_units, \n",
    "       input_dim=hidden3_num_units, activation='relu'),\n",
    " Dropout(dropout_ratio),\n",
    " Dense(units=hidden5_num_units, \n",
    "       input_dim=hidden4_num_units, activation='relu'),\n",
    " Dropout(dropout_ratio),\n",
    "\n",
    "Dense(units=output_num_units, \n",
    "      input_dim=hidden5_num_units, activation='softmax'),\n",
    " ])"
   ]
  },
  {
   "cell_type": "code",
   "execution_count": 18,
   "metadata": {},
   "outputs": [
    {
     "name": "stdout",
     "output_type": "stream",
     "text": [
      "Train on 55000 samples, validate on 5000 samples\n",
      "Epoch 1/50\n",
      "55000/55000 [==============================] - 3s 63us/step - loss: 0.8899 - acc: 0.7082 - val_loss: 0.2677 - val_acc: 0.9272\n",
      "Epoch 2/50\n",
      "55000/55000 [==============================] - 3s 50us/step - loss: 0.4036 - acc: 0.8898 - val_loss: 0.2075 - val_acc: 0.9426\n",
      "Epoch 3/50\n",
      "55000/55000 [==============================] - 3s 48us/step - loss: 0.3171 - acc: 0.9144 - val_loss: 0.1789 - val_acc: 0.9526\n",
      "Epoch 4/50\n",
      "55000/55000 [==============================] - 3s 48us/step - loss: 0.2757 - acc: 0.9258 - val_loss: 0.1681 - val_acc: 0.9550\n",
      "Epoch 5/50\n",
      "55000/55000 [==============================] - 3s 48us/step - loss: 0.2511 - acc: 0.9345 - val_loss: 0.1430 - val_acc: 0.9586\n",
      "Epoch 6/50\n",
      "55000/55000 [==============================] - 3s 48us/step - loss: 0.2317 - acc: 0.9387 - val_loss: 0.1537 - val_acc: 0.9592\n",
      "Epoch 7/50\n",
      "55000/55000 [==============================] - 3s 48us/step - loss: 0.2162 - acc: 0.9427 - val_loss: 0.1392 - val_acc: 0.9622\n",
      "Epoch 8/50\n",
      "55000/55000 [==============================] - 3s 49us/step - loss: 0.2096 - acc: 0.9443 - val_loss: 0.1498 - val_acc: 0.9584\n",
      "Epoch 9/50\n",
      "55000/55000 [==============================] - 3s 49us/step - loss: 0.1984 - acc: 0.9483 - val_loss: 0.1319 - val_acc: 0.9624\n",
      "Epoch 10/50\n",
      "55000/55000 [==============================] - 3s 49us/step - loss: 0.1886 - acc: 0.9497 - val_loss: 0.1337 - val_acc: 0.9666\n",
      "Epoch 11/50\n",
      "55000/55000 [==============================] - 3s 49us/step - loss: 0.1810 - acc: 0.9516 - val_loss: 0.1313 - val_acc: 0.9668\n",
      "Epoch 12/50\n",
      "55000/55000 [==============================] - 3s 48us/step - loss: 0.1838 - acc: 0.9512 - val_loss: 0.1347 - val_acc: 0.9650\n",
      "Epoch 13/50\n",
      "55000/55000 [==============================] - 3s 49us/step - loss: 0.1759 - acc: 0.9535 - val_loss: 0.1263 - val_acc: 0.9676\n",
      "Epoch 14/50\n",
      "55000/55000 [==============================] - 3s 48us/step - loss: 0.1655 - acc: 0.9557 - val_loss: 0.1315 - val_acc: 0.9660\n",
      "Epoch 15/50\n",
      "55000/55000 [==============================] - 3s 48us/step - loss: 0.1613 - acc: 0.9575 - val_loss: 0.1263 - val_acc: 0.9658\n",
      "Epoch 16/50\n",
      "55000/55000 [==============================] - 3s 49us/step - loss: 0.1597 - acc: 0.9570 - val_loss: 0.1286 - val_acc: 0.9686\n",
      "Epoch 17/50\n",
      "55000/55000 [==============================] - 3s 49us/step - loss: 0.1556 - acc: 0.9583 - val_loss: 0.1311 - val_acc: 0.9658\n",
      "Epoch 18/50\n",
      "55000/55000 [==============================] - 3s 48us/step - loss: 0.1503 - acc: 0.9592 - val_loss: 0.1146 - val_acc: 0.9704\n",
      "Epoch 19/50\n",
      "55000/55000 [==============================] - 3s 48us/step - loss: 0.1477 - acc: 0.9601 - val_loss: 0.1101 - val_acc: 0.9714\n",
      "Epoch 20/50\n",
      "55000/55000 [==============================] - 3s 48us/step - loss: 0.1442 - acc: 0.9609 - val_loss: 0.1173 - val_acc: 0.9710\n",
      "Epoch 21/50\n",
      "55000/55000 [==============================] - 3s 48us/step - loss: 0.1428 - acc: 0.9608 - val_loss: 0.1177 - val_acc: 0.9690\n",
      "Epoch 22/50\n",
      "55000/55000 [==============================] - 3s 49us/step - loss: 0.1383 - acc: 0.9623 - val_loss: 0.1224 - val_acc: 0.9698\n",
      "Epoch 23/50\n",
      "55000/55000 [==============================] - 3s 50us/step - loss: 0.1387 - acc: 0.9631 - val_loss: 0.1163 - val_acc: 0.9688\n",
      "Epoch 24/50\n",
      "55000/55000 [==============================] - 3s 49us/step - loss: 0.1358 - acc: 0.9632 - val_loss: 0.1175 - val_acc: 0.9678\n",
      "Epoch 25/50\n",
      "55000/55000 [==============================] - 3s 48us/step - loss: 0.1360 - acc: 0.9636 - val_loss: 0.1237 - val_acc: 0.9676\n",
      "Epoch 26/50\n",
      "55000/55000 [==============================] - 3s 50us/step - loss: 0.1313 - acc: 0.9642 - val_loss: 0.1239 - val_acc: 0.9680\n",
      "Epoch 27/50\n",
      "55000/55000 [==============================] - 3s 50us/step - loss: 0.1331 - acc: 0.9640 - val_loss: 0.1127 - val_acc: 0.9704\n",
      "Epoch 28/50\n",
      "55000/55000 [==============================] - 3s 49us/step - loss: 0.1303 - acc: 0.9643 - val_loss: 0.1116 - val_acc: 0.9704\n",
      "Epoch 29/50\n",
      "55000/55000 [==============================] - 3s 50us/step - loss: 0.1273 - acc: 0.9662 - val_loss: 0.1179 - val_acc: 0.9696\n",
      "Epoch 30/50\n",
      "55000/55000 [==============================] - 3s 51us/step - loss: 0.1262 - acc: 0.9658 - val_loss: 0.1246 - val_acc: 0.9682\n",
      "Epoch 31/50\n",
      "55000/55000 [==============================] - 3s 51us/step - loss: 0.1202 - acc: 0.9675 - val_loss: 0.1133 - val_acc: 0.9700\n",
      "Epoch 32/50\n",
      "55000/55000 [==============================] - 3s 51us/step - loss: 0.1225 - acc: 0.9663 - val_loss: 0.1213 - val_acc: 0.9706\n",
      "Epoch 33/50\n",
      "55000/55000 [==============================] - 3s 50us/step - loss: 0.1176 - acc: 0.9685 - val_loss: 0.1221 - val_acc: 0.9696\n",
      "Epoch 34/50\n",
      "55000/55000 [==============================] - 3s 51us/step - loss: 0.1195 - acc: 0.9678 - val_loss: 0.1142 - val_acc: 0.9716\n",
      "Epoch 35/50\n",
      "55000/55000 [==============================] - 3s 51us/step - loss: 0.1167 - acc: 0.9688 - val_loss: 0.1184 - val_acc: 0.9698\n",
      "Epoch 36/50\n",
      "55000/55000 [==============================] - 3s 49us/step - loss: 0.1203 - acc: 0.9672 - val_loss: 0.1135 - val_acc: 0.9706\n",
      "Epoch 37/50\n",
      "55000/55000 [==============================] - 3s 49us/step - loss: 0.1176 - acc: 0.9676 - val_loss: 0.1151 - val_acc: 0.9706\n",
      "Epoch 38/50\n",
      "55000/55000 [==============================] - 3s 49us/step - loss: 0.1164 - acc: 0.9676 - val_loss: 0.1124 - val_acc: 0.9708\n",
      "Epoch 39/50\n",
      "55000/55000 [==============================] - 3s 49us/step - loss: 0.1125 - acc: 0.9687 - val_loss: 0.1174 - val_acc: 0.9710\n",
      "Epoch 40/50\n",
      "55000/55000 [==============================] - 3s 47us/step - loss: 0.1098 - acc: 0.9698 - val_loss: 0.1189 - val_acc: 0.9734\n",
      "Epoch 41/50\n",
      "55000/55000 [==============================] - 3s 47us/step - loss: 0.1124 - acc: 0.9690 - val_loss: 0.1216 - val_acc: 0.9708\n",
      "Epoch 42/50\n",
      "55000/55000 [==============================] - 3s 49us/step - loss: 0.1121 - acc: 0.9691 - val_loss: 0.1239 - val_acc: 0.9694\n",
      "Epoch 43/50\n",
      "55000/55000 [==============================] - 3s 50us/step - loss: 0.1106 - acc: 0.9693 - val_loss: 0.1120 - val_acc: 0.9722\n",
      "Epoch 44/50\n",
      "55000/55000 [==============================] - 3s 49us/step - loss: 0.1074 - acc: 0.9701 - val_loss: 0.1121 - val_acc: 0.9716\n",
      "Epoch 45/50\n",
      "55000/55000 [==============================] - 3s 48us/step - loss: 0.1082 - acc: 0.9703 - val_loss: 0.1234 - val_acc: 0.9710\n",
      "Epoch 46/50\n",
      "55000/55000 [==============================] - 3s 48us/step - loss: 0.1046 - acc: 0.9710 - val_loss: 0.1220 - val_acc: 0.9702\n",
      "Epoch 47/50\n",
      "55000/55000 [==============================] - 3s 49us/step - loss: 0.1037 - acc: 0.9716 - val_loss: 0.1216 - val_acc: 0.9700\n",
      "Epoch 48/50\n",
      "55000/55000 [==============================] - 3s 49us/step - loss: 0.1035 - acc: 0.9718 - val_loss: 0.1178 - val_acc: 0.9732\n",
      "Epoch 49/50\n",
      "55000/55000 [==============================] - 3s 50us/step - loss: 0.1049 - acc: 0.9722 - val_loss: 0.1204 - val_acc: 0.9710\n",
      "Epoch 50/50\n",
      "55000/55000 [==============================] - 3s 49us/step - loss: 0.1046 - acc: 0.9714 - val_loss: 0.1203 - val_acc: 0.9714\n"
     ]
    }
   ],
   "source": [
    "model.compile(loss='categorical_crossentropy', \n",
    "              optimizer='adam', metrics=['accuracy'])\n",
    "\n",
    "trained_model_5d_drop_mais_epocas = model.fit(mnist.train.images, \n",
    "                                              mnist.train.labels, \n",
    "                              epochs=epochs, \n",
    "                              batch_size=batch_size, \n",
    "                              validation_data=(mnist.validation.images, \n",
    "                                               mnist.validation.labels))"
   ]
  },
  {
   "cell_type": "markdown",
   "metadata": {},
   "source": [
    "E nada muito extraordinário. O próximo passo agora é testar uma rede larga e profunda (e lenta :(). Com ela, temos a chance de realmente nos aproximarmos do desempenho dos melhores métodos, baseados em convoluções. Para deixar as coisas menos complexas, vou deixar 500 neurônios na 1a camada e apenas 250 nas demais. Vou testar com 25 épocas... ah, pode esperar!"
   ]
  },
  {
   "cell_type": "code",
   "execution_count": 19,
   "metadata": {
    "collapsed": true
   },
   "outputs": [],
   "source": [
    "# define vars\n",
    "input_num_units = 784\n",
    "hidden1_num_units = 500\n",
    "hidden2_num_units = 250\n",
    "hidden3_num_units = 250\n",
    "hidden4_num_units = 250\n",
    "hidden5_num_units = 250\n",
    "output_num_units = 10\n",
    "\n",
    "epochs = 25\n",
    "batch_size = 128\n",
    "\n",
    "dropout_ratio = 0.2\n",
    "\n",
    "model = Sequential([\n",
    " Dense(units=hidden1_num_units, \n",
    "       input_dim=input_num_units, activation='relu'),\n",
    " Dropout(dropout_ratio),\n",
    " Dense(units=hidden2_num_units, \n",
    "       input_dim=hidden1_num_units, activation='relu'),\n",
    " Dropout(dropout_ratio),\n",
    " Dense(units=hidden3_num_units, \n",
    "       input_dim=hidden2_num_units, activation='relu'),\n",
    " Dropout(dropout_ratio),\n",
    " Dense(units=hidden4_num_units, \n",
    "       input_dim=hidden3_num_units, activation='relu'),\n",
    " Dropout(dropout_ratio),\n",
    " Dense(units=hidden5_num_units, \n",
    "       input_dim=hidden4_num_units, activation='relu'),\n",
    " Dropout(dropout_ratio),\n",
    "\n",
    "Dense(units=output_num_units, \n",
    "      input_dim=hidden5_num_units, activation='softmax'),\n",
    " ])"
   ]
  },
  {
   "cell_type": "code",
   "execution_count": 21,
   "metadata": {},
   "outputs": [
    {
     "name": "stdout",
     "output_type": "stream",
     "text": [
      "_________________________________________________________________\n",
      "Layer (type)                 Output Shape              Param #   \n",
      "=================================================================\n",
      "dense_28 (Dense)             (None, 500)               392500    \n",
      "_________________________________________________________________\n",
      "dropout_11 (Dropout)         (None, 500)               0         \n",
      "_________________________________________________________________\n",
      "dense_29 (Dense)             (None, 250)               125250    \n",
      "_________________________________________________________________\n",
      "dropout_12 (Dropout)         (None, 250)               0         \n",
      "_________________________________________________________________\n",
      "dense_30 (Dense)             (None, 250)               62750     \n",
      "_________________________________________________________________\n",
      "dropout_13 (Dropout)         (None, 250)               0         \n",
      "_________________________________________________________________\n",
      "dense_31 (Dense)             (None, 250)               62750     \n",
      "_________________________________________________________________\n",
      "dropout_14 (Dropout)         (None, 250)               0         \n",
      "_________________________________________________________________\n",
      "dense_32 (Dense)             (None, 250)               62750     \n",
      "_________________________________________________________________\n",
      "dropout_15 (Dropout)         (None, 250)               0         \n",
      "_________________________________________________________________\n",
      "dense_33 (Dense)             (None, 10)                2510      \n",
      "=================================================================\n",
      "Total params: 708,510\n",
      "Trainable params: 708,510\n",
      "Non-trainable params: 0\n",
      "_________________________________________________________________\n"
     ]
    }
   ],
   "source": [
    "model.compile(loss='categorical_crossentropy', \n",
    "              optimizer='adam', metrics=['accuracy'])\n",
    "model.summary()\n",
    "#trained_model_5d_larga_profunda = model.fit(mnist.train.images, \n",
    "#                                              mnist.train.labels, \n",
    "#                              epochs=epochs, \n",
    "#                              batch_size=batch_size, \n",
    "#                              validation_data=(mnist.validation.images, \n",
    "#                                               mnist.validation.labels))"
   ]
  },
  {
   "cell_type": "markdown",
   "metadata": {},
   "source": [
    "Este modelo já conseguiu um resultado bem superior ao anterior. Contudo, fica claro agora que já há algum overfitting, devido à complexidade do modelo. Vamos ver qual o efeito agora de aplicarmos _batch normalization_."
   ]
  },
  {
   "cell_type": "code",
   "execution_count": 22,
   "metadata": {
    "collapsed": true
   },
   "outputs": [],
   "source": [
    "# define vars\n",
    "input_num_units = 784\n",
    "hidden1_num_units = 500\n",
    "hidden2_num_units = 250\n",
    "hidden3_num_units = 250\n",
    "hidden4_num_units = 250\n",
    "hidden5_num_units = 250\n",
    "output_num_units = 10\n",
    "\n",
    "epochs = 25\n",
    "batch_size = 128\n",
    "\n",
    "dropout_ratio = 0.2\n",
    "\n",
    "from keras.layers.normalization import BatchNormalization\n",
    "\n",
    "model = Sequential([\n",
    " Dense(units=hidden1_num_units, input_dim=input_num_units),\n",
    " BatchNormalization(), Activation('relu'),\n",
    " Dropout(dropout_ratio),\n",
    "    \n",
    " Dense(units=hidden2_num_units, input_dim=hidden1_num_units),\n",
    " BatchNormalization(), Activation('relu'),\n",
    " Dropout(dropout_ratio),\n",
    "    \n",
    " Dense(units=hidden3_num_units, input_dim=hidden2_num_units),\n",
    " BatchNormalization(), Activation('relu'),\n",
    " Dropout(dropout_ratio),\n",
    "    \n",
    " Dense(units=hidden4_num_units, input_dim=hidden3_num_units),\n",
    " BatchNormalization(), Activation('relu'),\n",
    " Dropout(dropout_ratio),\n",
    "    \n",
    " Dense(units=hidden5_num_units, input_dim=hidden4_num_units),\n",
    " BatchNormalization(), Activation('relu'),\n",
    " Dropout(dropout_ratio),\n",
    "    \n",
    " Dense(units=output_num_units, input_dim=hidden5_num_units),\n",
    " BatchNormalization(), Activation('softmax'),\n",
    "])"
   ]
  },
  {
   "cell_type": "code",
   "execution_count": 17,
   "metadata": {
    "scrolled": true
   },
   "outputs": [
    {
     "name": "stdout",
     "output_type": "stream",
     "text": [
      "Train on 55000 samples, validate on 5000 samples\n",
      "Epoch 1/25\n",
      "55000/55000 [==============================] - 9s 155us/step - loss: 0.5445 - acc: 0.8911 - val_loss: 0.1994 - val_acc: 0.9624\n",
      "Epoch 2/25\n",
      "55000/55000 [==============================] - 6s 108us/step - loss: 0.2459 - acc: 0.9537 - val_loss: 0.1361 - val_acc: 0.9678\n",
      "Epoch 3/25\n",
      "55000/55000 [==============================] - 6s 106us/step - loss: 0.1719 - acc: 0.9646 - val_loss: 0.1027 - val_acc: 0.9762\n",
      "Epoch 4/25\n",
      "55000/55000 [==============================] - 6s 106us/step - loss: 0.1356 - acc: 0.9704 - val_loss: 0.0866 - val_acc: 0.9794\n",
      "Epoch 5/25\n",
      "55000/55000 [==============================] - 6s 106us/step - loss: 0.1131 - acc: 0.9736 - val_loss: 0.0796 - val_acc: 0.9792\n",
      "Epoch 6/25\n",
      "55000/55000 [==============================] - 6s 104us/step - loss: 0.0971 - acc: 0.9768 - val_loss: 0.0729 - val_acc: 0.9796\n",
      "Epoch 7/25\n",
      "55000/55000 [==============================] - 6s 104us/step - loss: 0.0828 - acc: 0.9796 - val_loss: 0.0714 - val_acc: 0.9800\n",
      "Epoch 8/25\n",
      "55000/55000 [==============================] - 6s 105us/step - loss: 0.0755 - acc: 0.9810 - val_loss: 0.0728 - val_acc: 0.9826\n",
      "Epoch 9/25\n",
      "55000/55000 [==============================] - 6s 104us/step - loss: 0.0656 - acc: 0.9832 - val_loss: 0.0647 - val_acc: 0.9828\n",
      "Epoch 10/25\n",
      "55000/55000 [==============================] - 6s 104us/step - loss: 0.0622 - acc: 0.9839 - val_loss: 0.0617 - val_acc: 0.9834\n",
      "Epoch 11/25\n",
      "55000/55000 [==============================] - 6s 104us/step - loss: 0.0545 - acc: 0.9855 - val_loss: 0.0598 - val_acc: 0.9850\n",
      "Epoch 12/25\n",
      "55000/55000 [==============================] - 6s 104us/step - loss: 0.0509 - acc: 0.9869 - val_loss: 0.0560 - val_acc: 0.9846\n",
      "Epoch 13/25\n",
      "55000/55000 [==============================] - 6s 106us/step - loss: 0.0464 - acc: 0.9878 - val_loss: 0.0556 - val_acc: 0.9842\n",
      "Epoch 14/25\n",
      "55000/55000 [==============================] - 6s 105us/step - loss: 0.0423 - acc: 0.9887 - val_loss: 0.0623 - val_acc: 0.9826\n",
      "Epoch 15/25\n",
      "55000/55000 [==============================] - 6s 103us/step - loss: 0.0377 - acc: 0.9899 - val_loss: 0.0554 - val_acc: 0.9864\n",
      "Epoch 16/25\n",
      "55000/55000 [==============================] - 6s 104us/step - loss: 0.0386 - acc: 0.9894 - val_loss: 0.0577 - val_acc: 0.9862\n",
      "Epoch 17/25\n",
      "55000/55000 [==============================] - 6s 103us/step - loss: 0.0365 - acc: 0.9897 - val_loss: 0.0511 - val_acc: 0.9870\n",
      "Epoch 18/25\n",
      "55000/55000 [==============================] - 6s 104us/step - loss: 0.0335 - acc: 0.9905 - val_loss: 0.0564 - val_acc: 0.9864\n",
      "Epoch 19/25\n",
      "55000/55000 [==============================] - 6s 104us/step - loss: 0.0298 - acc: 0.9915 - val_loss: 0.0549 - val_acc: 0.9852\n",
      "Epoch 20/25\n",
      "55000/55000 [==============================] - 6s 105us/step - loss: 0.0289 - acc: 0.9918 - val_loss: 0.0563 - val_acc: 0.9864\n",
      "Epoch 21/25\n",
      "55000/55000 [==============================] - 6s 104us/step - loss: 0.0291 - acc: 0.9917 - val_loss: 0.0524 - val_acc: 0.9866\n",
      "Epoch 22/25\n",
      "55000/55000 [==============================] - 6s 109us/step - loss: 0.0242 - acc: 0.9931 - val_loss: 0.0558 - val_acc: 0.9852\n",
      "Epoch 23/25\n",
      "55000/55000 [==============================] - 6s 107us/step - loss: 0.0248 - acc: 0.9930 - val_loss: 0.0540 - val_acc: 0.9870\n",
      "Epoch 24/25\n",
      "55000/55000 [==============================] - 6s 105us/step - loss: 0.0228 - acc: 0.9935 - val_loss: 0.0601 - val_acc: 0.9846\n",
      "Epoch 25/25\n",
      "55000/55000 [==============================] - 6s 109us/step - loss: 0.0239 - acc: 0.9930 - val_loss: 0.0520 - val_acc: 0.9866\n"
     ]
    }
   ],
   "source": [
    "model.compile(loss='categorical_crossentropy', \n",
    "              optimizer='adam', metrics=['accuracy'])\n",
    "\n",
    "trained_model_5d_larga_profunda = model.fit(mnist.train.images, \n",
    "                                              mnist.train.labels, \n",
    "                              epochs=epochs, \n",
    "                              batch_size=batch_size, \n",
    "                              validation_data=(mnist.validation.images, \n",
    "                                               mnist.validation.labels))"
   ]
  },
  {
   "cell_type": "markdown",
   "metadata": {},
   "source": [
    "Mas à frente, vamos melhorar mais este resultado usando uma rede convolutiva."
   ]
  },
  {
   "cell_type": "markdown",
   "metadata": {},
   "source": [
    "## Keras Funcional"
   ]
  },
  {
   "cell_type": "markdown",
   "metadata": {},
   "source": [
    "A API sequencial do Keras permite a criação de modelos camada a camada, o que é uma boa representação para muitos modelos. Contudo, modelos mais complexos podem ter múltiplas entradas e saídas e várias sequências de camadas em paralelo. Isso não é simples de representar usando uma abstração sequencial. \n",
    "\n",
    "Uma abstração alternativa seria tratar a rede neural pelo o que ela é de fato: uma complexa combinação de funções. Esta é a ideia por trás da API funcional, que vamos ver agora."
   ]
  },
  {
   "cell_type": "markdown",
   "metadata": {},
   "source": [
    "### Uma FNN com Keras Funcional"
   ]
  },
  {
   "cell_type": "markdown",
   "metadata": {},
   "source": [
    "Nosso primeiro modelo nesta aula foi:\n",
    "\n",
    "```python\n",
    "# define vars\n",
    "input_num_units = 28*28\n",
    "hidden_num_units = 250\n",
    "output_num_units = 10\n",
    "epochs = 5\n",
    "batch_size = 128\n",
    "\n",
    "model = Sequential()\n",
    "model.add(Dense(units=hidden_num_units, \n",
    "       input_dim=input_num_units, activation='relu'))\n",
    "model.add(Dense(units=output_num_units, \n",
    "       input_dim=hidden_num_units, activation='softmax'))\n",
    "       \n",
    "model.compile(loss='categorical_crossentropy', \n",
    "              optimizer='adam', metrics=['accuracy'])\n",
    "\n",
    "trained_model_500 = model.fit(mnist.train.images, mnist.train.labels, \n",
    "                              epochs=epochs, \n",
    "                              batch_size=batch_size, \n",
    "                              validation_data=(mnist.validation.images, \n",
    "                                               mnist.validation.labels))\n",
    "```\n",
    "\n",
    "Usando a notação funcional, ele seria re-escrito como:"
   ]
  },
  {
   "cell_type": "code",
   "execution_count": 23,
   "metadata": {
    "collapsed": true
   },
   "outputs": [],
   "source": [
    "from keras.layers import Input, Dense, Activation\n",
    "from keras.models import Model"
   ]
  },
  {
   "cell_type": "code",
   "execution_count": 24,
   "metadata": {
    "collapsed": true
   },
   "outputs": [],
   "source": [
    "# define vars\n",
    "input_num_units = 28*28\n",
    "hidden_num_units = 250\n",
    "output_num_units = 10\n",
    "epochs = 5\n",
    "batch_size = 128"
   ]
  },
  {
   "cell_type": "markdown",
   "metadata": {},
   "source": [
    "A única parte do modelo que é diferente é realmente esta:"
   ]
  },
  {
   "cell_type": "code",
   "execution_count": 25,
   "metadata": {
    "collapsed": true
   },
   "outputs": [],
   "source": [
    "visible = Input(shape=(input_num_units,))\n",
    "hidden = Dense(hidden_num_units, activation = 'relu')(visible)\n",
    "output = Dense(output_num_units, activation = 'softmax')(hidden)\n",
    "model = Model(inputs = visible, outputs = output)\n",
    "\n",
    "# antes:\n",
    "# model = Sequential()\n",
    "# model.add(Dense(units=hidden_num_units, \n",
    "#       input_dim=input_num_units, activation='relu'))\n",
    "# model.add(Dense(units=output_num_units, \n",
    "#       input_dim=hidden_num_units, activation='softmax'))"
   ]
  },
  {
   "cell_type": "markdown",
   "metadata": {},
   "source": [
    "Ou seja, cada camada é tratada como uma função parametrizável. A saída de uma função é entrada para a próxima. A entrada é definida de forma explícita e o modelo é a composição das entradas e suas saídas (neste caso, apenas uma entrada e uma saída). Alternativamente, poderíamos definir este modelo assim:"
   ]
  },
  {
   "cell_type": "code",
   "execution_count": 26,
   "metadata": {
    "collapsed": true
   },
   "outputs": [],
   "source": [
    "visible = Input(shape=(input_num_units,))\n",
    "hidden = Dense(hidden_num_units)(visible)\n",
    "hidden = Activation('relu')(hidden)\n",
    "output = Dense(output_num_units, activation = 'softmax')(hidden)\n",
    "model = Model(inputs = visible, outputs = output)"
   ]
  },
  {
   "cell_type": "markdown",
   "metadata": {},
   "source": [
    "Esta segunda formulação, em que a função de ativação é separada da camada oculta, é útil para executar operações antes da função de ativação como, por exemplo, BatchNormalization."
   ]
  },
  {
   "cell_type": "code",
   "execution_count": 27,
   "metadata": {
    "collapsed": true,
    "scrolled": true
   },
   "outputs": [],
   "source": [
    "model.compile(loss='categorical_crossentropy', \n",
    "              optimizer='adam', metrics=['accuracy'])"
   ]
  },
  {
   "cell_type": "code",
   "execution_count": 28,
   "metadata": {
    "scrolled": true
   },
   "outputs": [
    {
     "name": "stdout",
     "output_type": "stream",
     "text": [
      "Train on 55000 samples, validate on 5000 samples\n",
      "Epoch 1/5\n",
      "55000/55000 [==============================] - 3s 46us/step - loss: 0.3255 - acc: 0.9082 - val_loss: 0.1671 - val_acc: 0.9538\n",
      "Epoch 2/5\n",
      "55000/55000 [==============================] - 2s 33us/step - loss: 0.1438 - acc: 0.9593 - val_loss: 0.1152 - val_acc: 0.9670\n",
      "Epoch 3/5\n",
      "55000/55000 [==============================] - 2s 32us/step - loss: 0.0984 - acc: 0.9719 - val_loss: 0.0922 - val_acc: 0.9746\n",
      "Epoch 4/5\n",
      "55000/55000 [==============================] - 2s 32us/step - loss: 0.0728 - acc: 0.9791 - val_loss: 0.0763 - val_acc: 0.9774\n",
      "Epoch 5/5\n",
      "55000/55000 [==============================] - 2s 31us/step - loss: 0.0565 - acc: 0.9831 - val_loss: 0.0710 - val_acc: 0.9804\n"
     ]
    }
   ],
   "source": [
    "trained_model_500 = model.fit(mnist.train.images, mnist.train.labels, \n",
    "                              epochs=epochs, \n",
    "                              batch_size=batch_size, \n",
    "                              validation_data=(mnist.validation.images, \n",
    "                                               mnist.validation.labels))"
   ]
  },
  {
   "cell_type": "markdown",
   "metadata": {},
   "source": [
    "__Exercício__: Usando a API funcional do Keras, crie uma FNN com 10 neurônios de entrada, 3 camadas ocultas com 10, 20 e 10 neurônios, e uma camada de saída com 1 neurônio. Use _relu_ como função de ativação em cada camada oculta e _sigmoid_ para a camada de saída."
   ]
  },
  {
   "cell_type": "code",
   "execution_count": 31,
   "metadata": {
    "collapsed": true
   },
   "outputs": [],
   "source": [
    "nentrada = 10\n",
    "noculta1 = 10\n",
    "noculta2 = 20\n",
    "noculta3 = 10\n",
    "nsaida = 1\n",
    "\n",
    "entrada = Input(shape=(nentrada,))\n",
    "oculta1 = Dense(noculta1,activation = 'relu')(entrada)\n",
    "oculta2 = Dense(noculta2,activation = 'relu')(oculta1)\n",
    "oculta3 = Dense(noculta3,activation = 'relu')(oculta2)\n",
    "saida = Dense(nsaida, activation = 'sigmoid')(hidden)\n",
    "model = Model(inputs = visible, outputs = output)"
   ]
  },
  {
   "cell_type": "markdown",
   "metadata": {},
   "source": [
    "<div align=\"right\">\n",
    "<a href=\"#modelkf1\" class=\"btn btn-default\" data-toggle=\"collapse\">Solução #1</a>\n",
    "</div>\n",
    "<div id=\"modelkf1\" class=\"collapse\">\n",
    "```\n",
    "from keras.models import Model\n",
    "from keras.layers import Input, Dense\n",
    "\n",
    "inp = Input(shape=(10,))\n",
    "h1  = Dense(10, activation = 'relu')(inp)\n",
    "h2  = Dense(20, activation = 'relu')(h1)\n",
    "h3  = Dense(10, activation = 'relu')(h2)\n",
    "out = Dense( 1, activation = 'sigmoid')(h3)\n",
    "\n",
    "model = Model(inputs = inp, outputs = out)\n",
    "```\n",
    "</div>"
   ]
  },
  {
   "cell_type": "markdown",
   "metadata": {},
   "source": [
    "### Combinando duas FNNs, um modelo de duas entradas"
   ]
  },
  {
   "cell_type": "markdown",
   "metadata": {},
   "source": [
    "Imagine que queremos saber se um usuário de uma operadora de TV à cabo pretende ou não desistir da sua assinatura. Suponha que temos duas redes neurais que usam diferentes conjuntos de evidências para prever a desistência. A primeira tem como entrada a quantidade de tempo gasto pelo usuário em dez categorias de programas. A segunda tem como entrada 8 diferentes informações demográficas do usuário, como sexo, idade, faixa de renda, plano assinado, etc. Queremos usar as representações dos usuários aprendidas por estas duas redes para criar um classificador final que tem a seguinte arquitetura: \n",
    "\n"
   ]
  },
  {
   "cell_type": "markdown",
   "metadata": {},
   "source": [
    "<img src=\"images/FnnMerge.png\" alt=\"FNN combinada\" style=\"width: 300px;\"/>"
   ]
  },
  {
   "cell_type": "markdown",
   "metadata": {},
   "source": [
    "Abaixo temos uma representação da rede em Keras, que demonstra a flexibidade da API funcional:"
   ]
  },
  {
   "cell_type": "code",
   "execution_count": 33,
   "metadata": {},
   "outputs": [
    {
     "name": "stdout",
     "output_type": "stream",
     "text": [
      "__________________________________________________________________________________________________\n",
      "Layer (type)                    Output Shape         Param #     Connected to                     \n",
      "==================================================================================================\n",
      "input_7 (InputLayer)            (None, 10)           0                                            \n",
      "__________________________________________________________________________________________________\n",
      "dense_56 (Dense)                (None, 10)           110         input_7[0][0]                    \n",
      "__________________________________________________________________________________________________\n",
      "input_8 (InputLayer)            (None, 8)            0                                            \n",
      "__________________________________________________________________________________________________\n",
      "dense_57 (Dense)                (None, 15)           165         dense_56[0][0]                   \n",
      "__________________________________________________________________________________________________\n",
      "dense_59 (Dense)                (None, 8)            72          input_8[0][0]                    \n",
      "__________________________________________________________________________________________________\n",
      "dense_58 (Dense)                (None, 10)           160         dense_57[0][0]                   \n",
      "__________________________________________________________________________________________________\n",
      "dense_60 (Dense)                (None, 8)            72          dense_59[0][0]                   \n",
      "__________________________________________________________________________________________________\n",
      "concatenate_2 (Concatenate)     (None, 18)           0           dense_58[0][0]                   \n",
      "                                                                 dense_60[0][0]                   \n",
      "__________________________________________________________________________________________________\n",
      "dense_61 (Dense)                (None, 10)           190         concatenate_2[0][0]              \n",
      "__________________________________________________________________________________________________\n",
      "dense_62 (Dense)                (None, 10)           110         dense_61[0][0]                   \n",
      "__________________________________________________________________________________________________\n",
      "dense_63 (Dense)                (None, 1)            11          dense_62[0][0]                   \n",
      "==================================================================================================\n",
      "Total params: 890\n",
      "Trainable params: 890\n",
      "Non-trainable params: 0\n",
      "__________________________________________________________________________________________________\n",
      "None\n"
     ]
    }
   ],
   "source": [
    "# Multiple Inputs\n",
    "from keras.models import Model\n",
    "from keras.layers import Input, Dense \n",
    "from keras.layers.merge import concatenate\n",
    "\n",
    "# first input model\n",
    "in1  = Input(shape=(10,))\n",
    "h11  = Dense(10, activation = 'relu')(in1)\n",
    "h12  = Dense(15, activation = 'relu')(h11)\n",
    "out1 = Dense(10, activation = 'relu')(h12)\n",
    "\n",
    "# second input model\n",
    "in2  = Input(shape=(8,))\n",
    "h21  = Dense(8, activation = 'relu')(in2)\n",
    "out2 = Dense(8, activation = 'relu')(h21)\n",
    "\n",
    "# merge input models\n",
    "merge = concatenate([out1, out2])\n",
    "\n",
    "# interpretation model\n",
    "hm1 = Dense(10, activation='relu')(merge)\n",
    "hm2 = Dense(10, activation='relu')(hm1)\n",
    "output = Dense(1, activation='sigmoid')(hm2)\n",
    "model = Model(inputs=[in1, in2], outputs=output)\n",
    "\n",
    "# summarize layers\n",
    "print(model.summary())"
   ]
  },
  {
   "cell_type": "markdown",
   "metadata": {},
   "source": [
    "O treino e previsão para este modelo devem incruir dados para ambas as entradas, o que resultaria em algo assim:\n",
    "\n",
    "```python\n",
    "model.fit([treino_programacao, treino_demograficos], labels, epochs=10)\n",
    "preds = model.predict([teste_programacao, teste_demograficos])\n",
    "```"
   ]
  },
  {
   "cell_type": "markdown",
   "metadata": {},
   "source": [
    "__Exercício__: Usando a API funcional do Keras, crie uma FNN que combina três outras FNNs. Cada uma das FNNs combinadas tem 10 neurônios de entrada e 2 camadas ocultas com 20 e 10 neurônios. As representações de saída de cada FNN são adicionadas (`keras.layers.merge.add`) umas às outras para formar a representação de entrada da rede de interpretação. Esta rede, por sua vez, é formada por três camadas ocultas de 10 neurônios e uma camada de saída com 5 neurônios. Use _relu_ como função de ativação em cada camada oculta e _sigmoid_ para a camada de saída. Quantos são os parâmetros treináveis desta rede?"
   ]
  },
  {
   "cell_type": "markdown",
   "metadata": {},
   "source": [
    "<div align=\"right\">\n",
    "<a href=\"#modelkf2\" class=\"btn btn-default\" data-toggle=\"collapse\">Solução #1</a>\n",
    "</div>\n",
    "<div id=\"modelkf2\" class=\"collapse\">\n",
    "```\n",
    "# Multiple Inputs\n",
    "from keras.models import Model\n",
    "from keras.layers import Input, Dense \n",
    "from keras.layers.merge import add\n",
    "\n",
    "in1  = Input(shape=(10,))\n",
    "h11  = Dense(20, activation = 'relu')(in1)\n",
    "out1 = Dense(10, activation = 'relu')(h11)\n",
    "\n",
    "in2  = Input(shape=(10,))\n",
    "h21  = Dense(20, activation = 'relu')(in2)\n",
    "out2 = Dense(10, activation = 'relu')(h21)\n",
    "\n",
    "in3  = Input(shape=(10,))\n",
    "h31  = Dense(20, activation = 'relu')(in3)\n",
    "out3 = Dense(10, activation = 'relu')(h31)\n",
    "\n",
    "# merge input models\n",
    "merge = add([out1, out2, out3])\n",
    "\n",
    "# interpretation model\n",
    "hm1 = Dense(10, activation='relu')(merge)\n",
    "hm2 = Dense(10, activation='relu')(hm1)\n",
    "hm3 = Dense(10, activation='relu')(hm2)\n",
    "output = Dense(5, activation='sigmoid')(hm3)\n",
    "model = Model(inputs=[in1, in2, in3], outputs=output)\n",
    "\n",
    "# summarize layers\n",
    "print(model.summary())\n",
    "\n",
    "# na minha conta, 2275 parâmetros.```\n",
    "</div>"
   ]
  },
  {
   "cell_type": "markdown",
   "metadata": {},
   "source": [
    "Nas próximas aulas, vamos ver mais exemplos de arquiteturas complexas."
   ]
  },
  {
   "cell_type": "markdown",
   "metadata": {},
   "source": [
    "Esta aula inclui material de <a href = \"https://linkedin.com/in/luisotsm\">Luis Otavio Silveira Martins</a>, <a href = \"https://linkedin.com/in/erich-natsubori-sato\"> Erich Natsubori Sato </a></h4>. Material adicional de Imanol Schlag (https://ischlag.github.io/2016/06/04/how-to-use-tensorboard/) e Faizan Shaikh (https://www.analyticsvidhya.com/blog/2016/10/tutorial-optimizing-neural-networks-using-keras-with-image-recognition-case-study/). A API funcional é baseada no material de Jason Brownlee, disponível em https://machinelearningmastery.com/keras-functional-api-deep-learning/."
   ]
  },
  {
   "cell_type": "code",
   "execution_count": null,
   "metadata": {
    "collapsed": true
   },
   "outputs": [],
   "source": []
  }
 ],
 "metadata": {
  "kernelspec": {
   "display_name": "Python 3",
   "language": "python",
   "name": "python3"
  },
  "language_info": {
   "codemirror_mode": {
    "name": "ipython",
    "version": 3
   },
   "file_extension": ".py",
   "mimetype": "text/x-python",
   "name": "python",
   "nbconvert_exporter": "python",
   "pygments_lexer": "ipython3",
   "version": "3.6.3"
  }
 },
 "nbformat": 4,
 "nbformat_minor": 2
}
