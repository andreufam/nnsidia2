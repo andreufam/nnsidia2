{
 "cells": [
  {
   "cell_type": "markdown",
   "metadata": {},
   "source": [
    "# Computação Eficiente"
   ]
  },
  {
   "cell_type": "markdown",
   "metadata": {},
   "source": [
    "Python é linguagem OO pensada como interface para sistemas de computação complexos. Assim, operações aparentemente simples escondem algoritmos sofisticados:"
   ]
  },
  {
   "cell_type": "code",
   "execution_count": 1,
   "metadata": {
    "scrolled": true
   },
   "outputs": [
    {
     "data": {
      "text/plain": [
       "3"
      ]
     },
     "execution_count": 1,
     "metadata": {},
     "output_type": "execute_result"
    }
   ],
   "source": [
    "2+1"
   ]
  },
  {
   "cell_type": "code",
   "execution_count": 2,
   "metadata": {},
   "outputs": [
    {
     "data": {
      "text/plain": [
       "int"
      ]
     },
     "execution_count": 2,
     "metadata": {},
     "output_type": "execute_result"
    }
   ],
   "source": [
    "type(2)"
   ]
  },
  {
   "cell_type": "code",
   "execution_count": null,
   "metadata": {
    "collapsed": true
   },
   "outputs": [],
   "source": [
    "(2).__add__(1)"
   ]
  },
  {
   "cell_type": "markdown",
   "metadata": {},
   "source": [
    "_Observação_: use dir() para descobrir os atributos e métodos disponíveis para um objeto."
   ]
  },
  {
   "cell_type": "code",
   "execution_count": 3,
   "metadata": {},
   "outputs": [
    {
     "data": {
      "text/plain": [
       "'__abs__, __add__, __and__, __bool__, __ceil__, __class__, __delattr__, __dir__, __divmod__, __doc__, __eq__, __float__, __floor__, __floordiv__, __format__, __ge__, __getattribute__, __getnewargs__, __gt__, __hash__, __index__, __init__, __init_subclass__, __int__, __invert__, __le__, __lshift__, __lt__, __mod__, __mul__, __ne__, __neg__, __new__, __or__, __pos__, __pow__, __radd__, __rand__, __rdivmod__, __reduce__, __reduce_ex__, __repr__, __rfloordiv__, __rlshift__, __rmod__, __rmul__, __ror__, __round__, __rpow__, __rrshift__, __rshift__, __rsub__, __rtruediv__, __rxor__, __setattr__, __sizeof__, __str__, __sub__, __subclasshook__, __truediv__, __trunc__, __xor__, bit_length, conjugate, denominator, from_bytes, imag, numerator, real, to_bytes'"
      ]
     },
     "execution_count": 3,
     "metadata": {},
     "output_type": "execute_result"
    }
   ],
   "source": [
    "', '.join(dir(2))"
   ]
  },
  {
   "cell_type": "code",
   "execution_count": 4,
   "metadata": {
    "collapsed": true
   },
   "outputs": [],
   "source": [
    "import numpy as np"
   ]
  },
  {
   "cell_type": "code",
   "execution_count": 5,
   "metadata": {},
   "outputs": [
    {
     "name": "stdout",
     "output_type": "stream",
     "text": [
      "[0.37866892 1.80889528 1.06126037 0.95811378 0.94607218 1.01988369\n",
      " 1.16886419 1.056206   0.91336304 0.74199711 1.42974597 1.14002526\n",
      " 1.35127008 1.03765124 0.52968828 1.0091012  0.47908933 1.38501747\n",
      " 1.6226184  1.71804014 1.44990423 1.4487021  1.52981619 1.76287014\n",
      " 1.24204919 1.46789536 1.54067192 1.540453   1.60475913 0.52392561\n",
      " 1.20527275 1.29848599 0.55517594 0.63529466 1.10994703 1.9620272\n",
      " 1.57978735 1.35046153 0.81636423 0.69972496 0.53386217 1.04386062\n",
      " 1.39270319 1.87306196 0.72703069 1.13079153 0.75798407 1.46004403\n",
      " 1.1385731  0.97165145 1.05253571 1.50695036 0.84620535 1.81212414\n",
      " 0.70699385 1.74989291 0.69802095 1.10616538 1.53906618 0.898859\n",
      " 1.14529088 1.00097779 0.53024893 0.85916366 0.24319757 1.05174207\n",
      " 0.3026155  0.73856354 1.21034348 0.08994994 1.45936498 1.42276821\n",
      " 1.46522753 0.52882567 0.83416354 0.5002088  0.70271941 1.19942092\n",
      " 1.25970141 1.56125933 0.8475318  1.00066766 0.38807857 1.44768832\n",
      " 0.87646316 0.90322906 1.29255391 1.26462876 0.52110728 0.87326944\n",
      " 0.94867824 1.46970977 0.80109589 1.33486278 1.4315938  1.50174719\n",
      " 0.36916909 0.39580635 1.56047218 1.44619321]\n"
     ]
    }
   ],
   "source": [
    "v1 = np.random.rand(100)\n",
    "v2 = np.random.rand(100)\n",
    "v3 = v1 + v2\n",
    "print(v3)"
   ]
  },
  {
   "cell_type": "code",
   "execution_count": 8,
   "metadata": {},
   "outputs": [
    {
     "data": {
      "text/plain": [
       "array([[0.01185655, 0.82795848, 0.87691497, ..., 0.38779663, 0.12197401,\n",
       "        0.23725622],\n",
       "       [0.75421333, 0.13613592, 0.68267485, ..., 0.89887596, 0.73017399,\n",
       "        0.78987842],\n",
       "       [0.66087955, 0.32620476, 0.93192481, ..., 0.63612865, 0.73565504,\n",
       "        0.54495513],\n",
       "       ...,\n",
       "       [0.25723118, 0.8753168 , 0.33747325, ..., 0.26501072, 0.41309417,\n",
       "        0.64553014],\n",
       "       [0.33917695, 0.47248653, 0.09108859, ..., 0.1448845 , 0.41655333,\n",
       "        0.31779103],\n",
       "       [0.09204173, 0.96917521, 0.62597936, ..., 0.43552354, 0.34539051,\n",
       "        0.87422145]])"
      ]
     },
     "execution_count": 8,
     "metadata": {},
     "output_type": "execute_result"
    }
   ],
   "source": [
    "m1 = np.random.rand(100, 15)\n",
    "m2 = np.random.rand(15, 110)\n",
    "m2"
   ]
  },
  {
   "cell_type": "code",
   "execution_count": 9,
   "metadata": {
    "collapsed": true
   },
   "outputs": [],
   "source": [
    "def matmul(m1, m2):\n",
    "    r = np.zeros((m1.shape[0], m2.shape[1]))\n",
    "    for i in range(m1.shape[0]):\n",
    "        for j in range(m2.shape[1]):\n",
    "            for k in range(m2.shape[0]):\n",
    "                r[i][j] += m1[i][k] * m2[k][j]\n",
    "    return r"
   ]
  },
  {
   "cell_type": "code",
   "execution_count": 10,
   "metadata": {},
   "outputs": [
    {
     "name": "stdout",
     "output_type": "stream",
     "text": [
      "171 ms ± 4.01 ms per loop (mean ± std. dev. of 7 runs, 10 loops each)\n"
     ]
    }
   ],
   "source": [
    "%timeit matmul(m1, m2)"
   ]
  },
  {
   "cell_type": "code",
   "execution_count": 11,
   "metadata": {
    "scrolled": false
   },
   "outputs": [
    {
     "name": "stdout",
     "output_type": "stream",
     "text": [
      "21.8 µs ± 1.25 µs per loop (mean ± std. dev. of 7 runs, 10000 loops each)\n"
     ]
    }
   ],
   "source": [
    "%timeit np.matmul(m1, m2)"
   ]
  },
  {
   "cell_type": "code",
   "execution_count": 13,
   "metadata": {},
   "outputs": [
    {
     "data": {
      "text/plain": [
       "7990.654205607477"
      ]
     },
     "execution_count": 13,
     "metadata": {},
     "output_type": "execute_result"
    }
   ],
   "source": [
    "171000/21.4"
   ]
  },
  {
   "cell_type": "markdown",
   "metadata": {},
   "source": [
    "Será que esta diferença de desempenho se deve ao mau uso do Python no primeiro exemplo? Esse ganho de eficiência talvez não exista ao se comparar com o código tivesse sido escrito em C e compilado de forma otimizada. Vamos ver?\n",
    "\n",
    "Comparação de multiplicação de matrizes em Numpy, Python (C-Python) e C\n",
    "\n",
    "<img src=\"images/TLhDi\" alt=\"NumpyVersusC\" style=\"width: 500px;\"/>"
   ]
  },
  {
   "cell_type": "markdown",
   "metadata": {},
   "source": [
    "Por que, na comparação acima, o Numpy foi tão rápido? Mais rápido mesmo que um código puro escrito em C? Basicamente, porque o código em numpy corresponde a versões otimizadas do melhor algotimo (prático) conhecido para o problema, escrito originalmente em Fortran para o BLAS. Abaixo, podemos ver a implementação do algoritmo de Strassen -- $O(n^{2.83})$, usado pelo numpy. Note o detalhe do _loop unrolling_ para acelerar o processamento em um hardware real.\n",
    "\n",
    "```C\n",
    "\n",
    "/*  -- translated by f2c (version 19940927).\n",
    "   You must link the resulting object file with the libraries:\n",
    "\t-lf2c -lm   (in that order)\n",
    "*/\n",
    "\n",
    "#include \"f2c.h\"\n",
    "\n",
    "doublereal sdot_(integer *n, real *sx, integer *incx, real *sy, integer *incy)\n",
    "{\n",
    "\n",
    "\n",
    "    /* System generated locals */\n",
    "    integer i__1;\n",
    "    real ret_val;\n",
    "\n",
    "    /* Local variables */\n",
    "    static integer i, m;\n",
    "    static real stemp;\n",
    "    static integer ix, iy, mp1;\n",
    "\n",
    "\n",
    "/*     forms the dot product of two vectors.   \n",
    "       uses unrolled loops for increments equal to one.   \n",
    "       jack dongarra, linpack, 3/11/78.   \n",
    "       modified 12/3/93, array(1) declarations changed to array(*)   \n",
    "\n",
    "\n",
    "    \n",
    "   Parameter adjustments   \n",
    "       Function Body */\n",
    "#define SY(I) sy[(I)-1]\n",
    "#define SX(I) sx[(I)-1]\n",
    "\n",
    "\n",
    "    stemp = 0.f;\n",
    "    ret_val = 0.f;\n",
    "    if (*n <= 0) {\n",
    "\treturn ret_val;\n",
    "    }\n",
    "    if (*incx == 1 && *incy == 1) {\n",
    "\tgoto L20;\n",
    "    }\n",
    "\n",
    "/*        code for unequal increments or equal increments   \n",
    "            not equal to 1 */\n",
    "\n",
    "    ix = 1;\n",
    "    iy = 1;\n",
    "    if (*incx < 0) {\n",
    "\tix = (-(*n) + 1) * *incx + 1;\n",
    "    }\n",
    "    if (*incy < 0) {\n",
    "\tiy = (-(*n) + 1) * *incy + 1;\n",
    "    }\n",
    "    i__1 = *n;\n",
    "    for (i = 1; i <= *n; ++i) {\n",
    "\tstemp += SX(ix) * SY(iy);\n",
    "\tix += *incx;\n",
    "\tiy += *incy;\n",
    "/* L10: */\n",
    "    }\n",
    "    ret_val = stemp;\n",
    "    return ret_val;\n",
    "\n",
    "/*        code for both increments equal to 1   \n",
    "\n",
    "\n",
    "          clean-up loop */\n",
    "\n",
    "L20:\n",
    "    m = *n % 5;\n",
    "    if (m == 0) {\n",
    "\tgoto L40;\n",
    "    }\n",
    "    i__1 = m;\n",
    "    for (i = 1; i <= m; ++i) {\n",
    "\tstemp += SX(i) * SY(i);\n",
    "/* L30: */\n",
    "    }\n",
    "    if (*n < 5) {\n",
    "\tgoto L60;\n",
    "    }\n",
    "L40:\n",
    "    mp1 = m + 1;\n",
    "    i__1 = *n;\n",
    "    for (i = mp1; i <= *n; i += 5) {\n",
    "\tstemp = stemp + SX(i) * SY(i) + SX(i + 1) * SY(i + 1) + SX(i + 2) * \n",
    "\t\tSY(i + 2) + SX(i + 3) * SY(i + 3) + SX(i + 4) * SY(i + 4);\n",
    "/* L50: */\n",
    "    }\n",
    "L60:\n",
    "    ret_val = stemp;\n",
    "    return ret_val;\n",
    "} /* sdot_ */\n",
    "\n",
    "```"
   ]
  },
  {
   "cell_type": "markdown",
   "metadata": {},
   "source": [
    "### O Tensorflow é o numpy para máquinas vetoriais\n",
    "\n",
    "Contudo, usa uma abordagem estática. Ou seja, o grafo de computação é declarado primeiro e, então, compilado e executado."
   ]
  },
  {
   "cell_type": "code",
   "execution_count": 14,
   "metadata": {},
   "outputs": [
    {
     "name": "stderr",
     "output_type": "stream",
     "text": [
      "E:\\Anaconda\\lib\\site-packages\\h5py\\__init__.py:34: FutureWarning: Conversion of the second argument of issubdtype from `float` to `np.floating` is deprecated. In future, it will be treated as `np.float64 == np.dtype(float).type`.\n",
      "  from ._conv import register_converters as _register_converters\n"
     ]
    }
   ],
   "source": [
    "import tensorflow as tf"
   ]
  },
  {
   "cell_type": "code",
   "execution_count": 15,
   "metadata": {
    "collapsed": true
   },
   "outputs": [],
   "source": [
    "t1 = tf.constant(np.random.rand(100, 15), dtype = tf.float32)\n",
    "t2 = tf.constant(np.random.rand(15, 110), dtype = tf.float32)"
   ]
  },
  {
   "cell_type": "code",
   "execution_count": 16,
   "metadata": {
    "collapsed": true
   },
   "outputs": [],
   "source": [
    "t3 = tf.matmul(t1, t2)"
   ]
  },
  {
   "cell_type": "code",
   "execution_count": 17,
   "metadata": {},
   "outputs": [
    {
     "data": {
      "text/plain": [
       "<tf.Tensor 'MatMul:0' shape=(100, 110) dtype=float32>"
      ]
     },
     "execution_count": 17,
     "metadata": {},
     "output_type": "execute_result"
    }
   ],
   "source": [
    "t3"
   ]
  },
  {
   "cell_type": "code",
   "execution_count": 22,
   "metadata": {
    "scrolled": true
   },
   "outputs": [
    {
     "name": "stdout",
     "output_type": "stream",
     "text": [
      "249 µs ± 4.92 µs per loop (mean ± std. dev. of 7 runs, 1000 loops each)\n"
     ]
    }
   ],
   "source": [
    "with tf.Session() as s:\n",
    "    %timeit s.run(t3)"
   ]
  },
  {
   "cell_type": "code",
   "execution_count": 23,
   "metadata": {
    "collapsed": true
   },
   "outputs": [],
   "source": [
    "def sigmoid(t):\n",
    "    return 1.0 / (1.0 + tf.exp(-t))"
   ]
  },
  {
   "cell_type": "code",
   "execution_count": 24,
   "metadata": {
    "collapsed": true
   },
   "outputs": [],
   "source": [
    "t1 = tf.constant(np.random.rand(100, 15), dtype = tf.float32)\n",
    "t2 = tf.constant(np.random.rand(15, 110), dtype = tf.float32)"
   ]
  },
  {
   "cell_type": "code",
   "execution_count": 25,
   "metadata": {
    "collapsed": true
   },
   "outputs": [],
   "source": [
    "t1s = sigmoid(t1)"
   ]
  },
  {
   "cell_type": "code",
   "execution_count": 26,
   "metadata": {},
   "outputs": [
    {
     "data": {
      "text/plain": [
       "<tf.Tensor 'truediv:0' shape=(100, 15) dtype=float32>"
      ]
     },
     "execution_count": 26,
     "metadata": {},
     "output_type": "execute_result"
    }
   ],
   "source": [
    "t1s"
   ]
  },
  {
   "cell_type": "code",
   "execution_count": 27,
   "metadata": {},
   "outputs": [
    {
     "name": "stdout",
     "output_type": "stream",
     "text": [
      "[[0.6811364  0.5363544  0.6938013  ... 0.51871985 0.6798468  0.57355547]\n",
      " [0.70945364 0.62030077 0.5567146  ... 0.72628546 0.7257262  0.62635213]\n",
      " [0.71024084 0.51102895 0.71338314 ... 0.50232536 0.67425895 0.6711652 ]\n",
      " ...\n",
      " [0.50703585 0.51820153 0.58686787 ... 0.7114796  0.5619643  0.6120476 ]\n",
      " [0.6633063  0.6648792  0.5655095  ... 0.65587413 0.61645013 0.6796473 ]\n",
      " [0.68717635 0.7019232  0.71756274 ... 0.65609914 0.538653   0.612126  ]]\n"
     ]
    }
   ],
   "source": [
    "with tf.Session() as s:\n",
    "    print(s.run(t1s))"
   ]
  },
  {
   "cell_type": "code",
   "execution_count": 28,
   "metadata": {
    "collapsed": true
   },
   "outputs": [],
   "source": [
    "t1 = tf.placeholder(shape = (100, 15), dtype = tf.float32)\n",
    "t2 = tf.placeholder(shape = (15, 110), dtype = tf.float32)"
   ]
  },
  {
   "cell_type": "code",
   "execution_count": 29,
   "metadata": {
    "collapsed": true
   },
   "outputs": [],
   "source": [
    "t3 = tf.matmul(t1, t2)"
   ]
  },
  {
   "cell_type": "code",
   "execution_count": 30,
   "metadata": {},
   "outputs": [
    {
     "data": {
      "text/plain": [
       "<tf.Tensor 'MatMul_1:0' shape=(100, 110) dtype=float32>"
      ]
     },
     "execution_count": 30,
     "metadata": {},
     "output_type": "execute_result"
    }
   ],
   "source": [
    "t3"
   ]
  },
  {
   "cell_type": "code",
   "execution_count": null,
   "metadata": {
    "collapsed": true,
    "scrolled": true
   },
   "outputs": [],
   "source": [
    "with tf.Session() as s:\n",
    "    print(s.run(t3, feed_dict = {t1: m1, t2: m2}))\n",
    "    m1 = 2 * m1\n",
    "    m2 = 3 * m2\n",
    "    print(s.run(t3, feed_dict = {t1: m1, t2: m2}))"
   ]
  },
  {
   "cell_type": "markdown",
   "metadata": {},
   "source": [
    "O problema com essa abordagem é que ela ainda é relativamente baixo nível. Logo, não é produtiva em termos de prototipação. Assim, surge a necessidade de APIs de mais alto nível ainda, como o Keras."
   ]
  }
 ],
 "metadata": {
  "kernelspec": {
   "display_name": "Python 3",
   "language": "python",
   "name": "python3"
  },
  "language_info": {
   "codemirror_mode": {
    "name": "ipython",
    "version": 3
   },
   "file_extension": ".py",
   "mimetype": "text/x-python",
   "name": "python",
   "nbconvert_exporter": "python",
   "pygments_lexer": "ipython3",
   "version": "3.6.3"
  }
 },
 "nbformat": 4,
 "nbformat_minor": 2
}
