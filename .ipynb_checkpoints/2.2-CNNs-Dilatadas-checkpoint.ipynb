{
 "cells": [
  {
   "cell_type": "markdown",
   "metadata": {},
   "source": [
    "# Redes de Convolução Dilatadas"
   ]
  },
  {
   "cell_type": "markdown",
   "metadata": {},
   "source": [
    "Nesta aula, vamos ver como usar redes de convolução para prever o tempo. Para isso, vamos usar um tipo de CNN que suporta uma operação diferente de convolução, a _convolução dilatada causal_."
   ]
  },
  {
   "cell_type": "code",
   "execution_count": 2,
   "metadata": {
    "collapsed": true
   },
   "outputs": [],
   "source": [
    "from __future__ import print_function, division"
   ]
  },
  {
   "cell_type": "code",
   "execution_count": 3,
   "metadata": {
    "collapsed": true
   },
   "outputs": [],
   "source": [
    "import numpy as np\n",
    "import pandas as pd\n",
    "import matplotlib.pyplot as plt\n",
    "%matplotlib inline"
   ]
  },
  {
   "cell_type": "markdown",
   "metadata": {},
   "source": [
    "### Introdução"
   ]
  },
  {
   "cell_type": "markdown",
   "metadata": {},
   "source": [
    "CNNs foram projetadas principalmente para processamento espacial. Elas, contudo, são usadas também como sucesso para entradas de natureza sequencial, como frases, áudio etc. Nestes casos, elas tiram proveito do contexto observado na sequência, sem lidar realmente com o seu encadeamento sequêncial. Contudo, mais recentemente, arquiteturas têm sido propostas que são capazes de lidar mesmo com a natureza sequencial da informação. Um exemplo são as CNNs dilatadas (DC-CNNs), ou seja, CNNs com operações de convolução causais dilatadas.\n",
    "\n",
    "A ideia geral das DC-CNNs é explorar o contexto da informação considerando sua direção causal. Em termos práticos, operações de convolução nestas CNNs são restritas a apenas uma direção. É mais fácil entender isso com um exemplo. Abaixo, temos o esquema de uma convolução causal 1-D de largura 2. Ou seja, cada neurônio observa duas entradas. Como a convolução é causal, note que o $t$-ésimo neurônio só pode observar entradas $t$ e $t-1$.\n",
    "\n",
    "<img src=\"images/WaveNet_causalconv.png\" alt=\"Convolução causal\" style=\"width: 600px;\"/>\n",
    "\n",
    "Este tipo de operação permite a previsão de uma saída, pela observação de entradas anteriores a ela. Contudo, note no exemplo, que para observar 5 entradas, a rede precisa de 3 camadas ocultas. Para observar uma série com 16 entradas, seriam necessárias 14 camadas, tornando a rede rapidamente  inviável para sequencias maiores.\n",
    "\n",
    "Uma forma de resolver este problema é atraves de _convoluções dilatadas_, ou seja convoluções aplicadas à entrada com intervalos de tamanhos pré-definidos. Por exemplo, com apenas 3 camadas é possível observar 16 entradas se cada camada possuir o dobro de intervalos da camada anterior, como visto abaixo:\n",
    "\n",
    "<img src=\"images/WaveNet_dilatedconv.png\" alt=\"Convolução causal\" style=\"width: 600px;\"/>\n",
    "\n",
    "A quantidade de intervalos entre duas observações é chamada _fator de dilatação_. Uma convolução normal pode ser vista como uma convolução em que o fator de dilatação $k = 1$. Com $k=2$, a convolução saltaria uma a cada duas entradas. Com $k=4$, seriam saltadas 3 entradas. \n",
    "\n",
    "Estas operações de convolução possibilitam que se aumente o \"campo receptivo\" de um neurônio exponencialmente com um aumento apenas linear do número de parâmetros. Assim, é possível se explorar a sequência de elementos tanto de forma detalhada quanto geral, sem grande custo processamento."
   ]
  },
  {
   "cell_type": "markdown",
   "metadata": {
    "collapsed": true
   },
   "source": [
    "Assim, usando convoluções causais dilatadas, é possível usar CNNs para preverem o próximo elemento de uma sequência, tornando possível o seu uso como previsores temporais, como ilustrado abaixo:\n",
    "\n",
    "<img src=\"images/dilation_animation.gif\" alt=\"Animação de dilations\" style=\"width: 500px;\"/>\n",
    "\n",
    "Neste notebook, vamos implementar esta estratégia de previsão."
   ]
  },
  {
   "cell_type": "markdown",
   "metadata": {},
   "source": [
    "### Uma arquitetura CNN dilatada"
   ]
  },
  {
   "cell_type": "markdown",
   "metadata": {
    "collapsed": true
   },
   "source": [
    "Em particular, vamos implementar a rede _seriesnet_, uma DN-CNN com a arquitetura ilustrada a seguir:\n",
    "\n",
    "<img src=\"images/dilatedCNN.png\" alt=\"CNN dilatada\" style=\"width: 500px;\"/>\n",
    "\n",
    "Nesta arquitetura, em particular, 7 camadas são empilhadas. Cada camada corresponde a um bloco com diferente fator de dilatação (bloco DC-CNN). A saída de todos os blocos é somada e transformada por uma operação _relu_. O resultado é então combinado em uma convolução de largura 1 que gera a previsão $\\hat{y}$. \n",
    "\n",
    "Cada bloco DC-CNN corresponde a um conjunto de filtros de convolução causal dilatada, com saída tanto para o próximo bloco quanto para o somador final. Ambas as saídas ainda são transformadas por uma operação relu e combinadas via camadas de convolução 1x1. A saída para o próximo bloco é residual. A seguir, temos a implementação desta arquitetura em Keras."
   ]
  },
  {
   "cell_type": "code",
   "execution_count": 1,
   "metadata": {
    "scrolled": true
   },
   "outputs": [
    {
     "name": "stderr",
     "output_type": "stream",
     "text": [
      "E:\\Anaconda\\lib\\site-packages\\h5py\\__init__.py:34: FutureWarning: Conversion of the second argument of issubdtype from `float` to `np.floating` is deprecated. In future, it will be treated as `np.float64 == np.dtype(float).type`.\n",
      "  from ._conv import register_converters as _register_converters\n",
      "Using TensorFlow backend.\n"
     ]
    }
   ],
   "source": [
    "import tensorflow as tf\n",
    "\n",
    "#Se vocês estiverem tendo crashes estranhos quando rodarem as convolucoes, \n",
    "#pode ser um problema do CUDA nao estar gerenciando bem a memoria. Descomentem essas linhas nesse caso\n",
    "#config = tf.ConfigProto()\n",
    "#config.gpu_options.allow_growth = True\n",
    "#sess = tf.Session(config=config)\n",
    "\n",
    "from keras.layers import Conv1D, Input, Add, Activation, Dropout\n",
    "from keras.models import Sequential, Model\n",
    "from keras.regularizers import l2\n",
    "from keras.initializers import TruncatedNormal\n",
    "from keras.layers.advanced_activations import LeakyReLU, ELU\n",
    "from keras import optimizers\n",
    "\n"
   ]
  },
  {
   "cell_type": "code",
   "execution_count": 4,
   "metadata": {
    "collapsed": true
   },
   "outputs": [],
   "source": [
    "def DC_CNN_Block(nb_filter, filter_length, dilation, l2_layer_reg):\n",
    "    def block(block_input):        \n",
    "        residual =    block_input\n",
    "        \n",
    "        layer_out =   Conv1D(filters=nb_filter, kernel_size=filter_length, \n",
    "                      dilation_rate=dilation, \n",
    "                      activation='linear', padding='causal', use_bias=False,\n",
    "                      kernel_initializer=TruncatedNormal(mean=0.0, stddev=0.05, \n",
    "                      seed=42), kernel_regularizer=l2(l2_layer_reg))(block_input)                    \n",
    "        selu_out =    Activation('selu')(layer_out)\n",
    "        \n",
    "        skip_out =    Conv1D(1,1, activation='linear', use_bias=False, \n",
    "                      kernel_initializer=TruncatedNormal(mean=0.0, stddev=0.05, \n",
    "                      seed=42), kernel_regularizer=l2(l2_layer_reg))(selu_out)\n",
    "        \n",
    "        c1x1_out =    Conv1D(1,1, activation='linear', use_bias=False, \n",
    "                      kernel_initializer=TruncatedNormal(mean=0.0, stddev=0.05, \n",
    "                      seed=42), kernel_regularizer=l2(l2_layer_reg))(selu_out)\n",
    "                      \n",
    "        block_out =   Add()([residual, c1x1_out])\n",
    "        \n",
    "        return block_out, skip_out\n",
    "    return block"
   ]
  },
  {
   "cell_type": "code",
   "execution_count": 5,
   "metadata": {
    "collapsed": true
   },
   "outputs": [],
   "source": [
    "def DC_CNN_Model(length):\n",
    "    visible = Input(shape=(length, 1))\n",
    "    \n",
    "    l1a, l1b = DC_CNN_Block(32,2,1,0.001)(visible)    \n",
    "    l2a, l2b = DC_CNN_Block(32,2,2,0.001)(l1a) \n",
    "    l3a, l3b = DC_CNN_Block(32,2,4,0.001)(l2a)\n",
    "    l4a, l4b = DC_CNN_Block(32,2,8,0.001)(l3a)\n",
    "    l5a, l5b = DC_CNN_Block(32,2,16,0.001)(l4a)\n",
    "    l6a, l6b = DC_CNN_Block(32,2,32,0.001)(l5a)\n",
    "    l7a, l7b = DC_CNN_Block(32,2,64,0.001)(l6a)\n",
    "\n",
    "    l8 =   Add()([l1b, l2b, l3b, l4b, l5b, l6b, l7b])  \n",
    "    \n",
    "    l9 =   Activation('relu')(l8)\n",
    "           \n",
    "    yhat =  Conv1D(1,1, activation='linear', use_bias=False, \n",
    "            kernel_initializer=TruncatedNormal(mean=0.0, stddev=0.05, seed=42),\n",
    "            kernel_regularizer=l2(0.001))(l9)\n",
    "\n",
    "    model = Model(inputs=visible, outputs=yhat)\n",
    "    \n",
    "    adam = optimizers.Adam(lr=0.001, beta_1=0.9, beta_2=0.999, decay=0.0)\n",
    "\n",
    "    model.compile(loss='mae', optimizer=adam, metrics=['mse'])\n",
    "    return model"
   ]
  },
  {
   "cell_type": "markdown",
   "metadata": {},
   "source": [
    "### Usando CNNs dilatadas para previsão de séries de tempo"
   ]
  },
  {
   "cell_type": "markdown",
   "metadata": {},
   "source": [
    "Para testar nosso modelo, vamos usar uma série com informaçoes sobre o número de passageiros em vôos nos EUA entre 1949 e 1961."
   ]
  },
  {
   "cell_type": "code",
   "execution_count": 6,
   "metadata": {
    "collapsed": true
   },
   "outputs": [],
   "source": [
    "import pandas as pd"
   ]
  },
  {
   "cell_type": "code",
   "execution_count": 8,
   "metadata": {},
   "outputs": [],
   "source": [
    "airline = pd.read_csv('data/airline.csv')"
   ]
  },
  {
   "cell_type": "code",
   "execution_count": 9,
   "metadata": {
    "scrolled": true
   },
   "outputs": [
    {
     "data": {
      "text/plain": [
       "<matplotlib.axes._subplots.AxesSubplot at 0x223d20ef5c0>"
      ]
     },
     "execution_count": 9,
     "metadata": {},
     "output_type": "execute_result"
    },
    {
     "data": {
      "image/png": "[encoded data removed]",
      "text/plain": [
       "<matplotlib.figure.Figure at 0x223d202acf8>"
      ]
     },
     "metadata": {},
     "output_type": "display_data"
    }
   ],
   "source": [
    "airline['passengers'].plot()"
   ]
  },
  {
   "cell_type": "markdown",
   "metadata": {},
   "source": [
    "Esta série apresenta clara sazonalidade e uma tendência de crescimento. A seguir, Vamos agora fazer uma previsão para um horizonte de 40 dias:"
   ]
  },
  {
   "cell_type": "code",
   "execution_count": null,
   "metadata": {
    "collapsed": true
   },
   "outputs": [],
   "source": [
    "forecast_horizon = 40"
   ]
  },
  {
   "cell_type": "code",
   "execution_count": null,
   "metadata": {
    "collapsed": true
   },
   "outputs": [],
   "source": [
    "Xpast = airline['passengers'].iloc[:-forecast_horizon]\n",
    "Xreal = airline['passengers'].iloc[-forecast_horizon:] "
   ]
  },
  {
   "cell_type": "code",
   "execution_count": null,
   "metadata": {
    "collapsed": true
   },
   "outputs": [],
   "source": [
    "Xpast = np.atleast_2d(np.asarray(Xpast)).T"
   ]
  },
  {
   "cell_type": "code",
   "execution_count": null,
   "metadata": {
    "collapsed": true
   },
   "outputs": [],
   "source": [
    "length = len(Xpast)-1"
   ]
  },
  {
   "cell_type": "code",
   "execution_count": null,
   "metadata": {
    "collapsed": true
   },
   "outputs": [],
   "source": [
    "model = DC_CNN_Model(length)"
   ]
  },
  {
   "cell_type": "code",
   "execution_count": null,
   "metadata": {
    "collapsed": true
   },
   "outputs": [],
   "source": [
    "X = Xpast[:-1].reshape(1,length,1)\n",
    "y = Xpast[1:].reshape(1,length,1)    "
   ]
  },
  {
   "cell_type": "code",
   "execution_count": null,
   "metadata": {
    "collapsed": true,
    "scrolled": true
   },
   "outputs": [],
   "source": [
    "print(X[0,:5,:].T)\n",
    "print(y[0,:5,:].T)"
   ]
  },
  {
   "cell_type": "code",
   "execution_count": null,
   "metadata": {
    "collapsed": true
   },
   "outputs": [],
   "source": [
    "model.fit(X, y, epochs=500)"
   ]
  },
  {
   "cell_type": "code",
   "execution_count": null,
   "metadata": {
    "collapsed": true
   },
   "outputs": [],
   "source": [
    "#model.summary()\n",
    "X_test_initial = Xpast[1:].reshape(1,length,1)\n",
    "X_trfit = model.predict(X_test_initial)"
   ]
  },
  {
   "cell_type": "code",
   "execution_count": null,
   "metadata": {
    "collapsed": true,
    "scrolled": true
   },
   "outputs": [],
   "source": [
    "plt.plot(Xpast, label = 'past')\n",
    "plt.plot(X_trfit.flatten(), label = 'fit')\n",
    "plt.legend(loc = 'upper left')"
   ]
  },
  {
   "cell_type": "code",
   "execution_count": null,
   "metadata": {
    "collapsed": true
   },
   "outputs": [],
   "source": [
    "preds = np.zeros(forecast_horizon)\n",
    "preds[0] = model.predict(X_test_initial)[0,-1,0]\n",
    "\n",
    "for i in range(1, forecast_horizon):\n",
    "    X_test_i = np.append(X_test_initial[0,i:,:], preds[:i])\n",
    "    preds[i] = model.predict(X_test_i.reshape(1, length, 1))[0,-1,0]"
   ]
  },
  {
   "cell_type": "code",
   "execution_count": null,
   "metadata": {
    "collapsed": true
   },
   "outputs": [],
   "source": [
    "plt.plot(Xreal, label = 'real')\n",
    "plt.plot(pd.DataFrame(preds, index=Xreal.index), label = 'pred')\n",
    "plt.legend()"
   ]
  },
  {
   "cell_type": "markdown",
   "metadata": {},
   "source": [
    "Juntando tudo:"
   ]
  },
  {
   "cell_type": "code",
   "execution_count": null,
   "metadata": {
    "collapsed": true
   },
   "outputs": [],
   "source": [
    "def evaluate_timeseries(timeseries, predict_size, n_epochs = 3000):\n",
    "    # timeseries input is 1-D numpy array\n",
    "    # forecast_size is the forecast horizon\n",
    "    \n",
    "    # remove missing data\n",
    "    timeseries = timeseries[~pd.isnull(timeseries)]\n",
    "\n",
    "    length = len(timeseries)-1\n",
    "\n",
    "    timeseries = np.atleast_2d(np.asarray(timeseries))\n",
    "    if timeseries.shape[0] == 1:\n",
    "        timeseries = timeseries.T \n",
    "\n",
    "    model = DC_CNN_Model(length)\n",
    "    print('\\n\\nModel input size',model.input_shape, 'output size' , model.output_shape)\n",
    "    \n",
    "    model.summary()\n",
    "\n",
    "    # prime model\n",
    "    X = timeseries[:-1].reshape(1,length,1)\n",
    "    y = timeseries[1:].reshape(1,length,1)    \n",
    "    model.fit(X, y, epochs=n_epochs)\n",
    "    \n",
    "    # get fit for training data\n",
    "    X_test_initial = timeseries[1:].reshape(1,length,1)\n",
    "    X_trfit = model.predict(X_test_initial) \n",
    "        \n",
    "    # forecast is created by predicting next future \n",
    "    # value based on previous predictions\n",
    "    preds = np.zeros(forecast_horizon)\n",
    "    preds[0] = model.predict(X_test_initial)[0,-1,0]\n",
    "    for i in range(1, forecast_horizon):\n",
    "        X_test_i = np.append(X_test_initial[0,i:,:], preds[:i])\n",
    "        preds[i] = model.predict(X_test_i.reshape(1, length, 1))[0,-1,0]\n",
    "        \n",
    "    return preds, X_trfit.flatten()"
   ]
  },
  {
   "cell_type": "code",
   "execution_count": null,
   "metadata": {
    "collapsed": true
   },
   "outputs": [],
   "source": [
    "Xpred, Xfit = evaluate_timeseries(Xpast, forecast_horizon, n_epochs = 4000)"
   ]
  },
  {
   "cell_type": "markdown",
   "metadata": {},
   "source": [
    "Finalmente, podemos observar o desempenho do modelo como previsor. Note que este resultado foi obtido ao se prever o próximo mês com base na previsão feita para o mês anterior."
   ]
  },
  {
   "cell_type": "code",
   "execution_count": null,
   "metadata": {
    "collapsed": true
   },
   "outputs": [],
   "source": [
    "plt.plot(Xpast, label = 'past')\n",
    "plt.plot(Xfit, label = 'fit')\n",
    "plt.plot(Xreal, label = 'real')\n",
    "plt.plot(pd.DataFrame(Xpred, index=Xreal.index), label = 'pred')\n",
    "plt.legend(loc = 'upper left')"
   ]
  },
  {
   "cell_type": "markdown",
   "metadata": {},
   "source": [
    "O modelo foi capaz de capturar tanto a sazonalidade quanto a tendência, embora o erro acumulado seja muito alto para o horizonte observado."
   ]
  },
  {
   "cell_type": "markdown",
   "metadata": {},
   "source": [
    "__Exercício__: qual o efeito de adicionar dropout às camadas mais prodfundas do modelo. Em particular, avalie o modelo considerando dropout de 20% nas últimas duas camadas (as duas que enxergam mais no passado)."
   ]
  },
  {
   "cell_type": "markdown",
   "metadata": {
    "collapsed": true
   },
   "source": [
    "Esta aula foi baseada no material de Krist Papadopoulos, disponível em https://github.com/kristpapadopoulos/seriesnet. Também foi usado material da DeepMind, os criadores da Wavenet, disponível no blog https://deepmind.com/blog/wavenet-generative-model-raw-audio/ e de Joseph Eddy, disponível em https://jeddy92.github.io/JEddy92.github.io/ts_seq2seq_conv/."
   ]
  },
  {
   "cell_type": "code",
   "execution_count": null,
   "metadata": {
    "collapsed": true
   },
   "outputs": [],
   "source": []
  }
 ],
 "metadata": {
  "kernelspec": {
   "display_name": "Python 3",
   "language": "python",
   "name": "python3"
  },
  "language_info": {
   "codemirror_mode": {
    "name": "ipython",
    "version": 3
   },
   "file_extension": ".py",
   "mimetype": "text/x-python",
   "name": "python",
   "nbconvert_exporter": "python",
   "pygments_lexer": "ipython3",
   "version": "3.6.3"
  }
 },
 "nbformat": 4,
 "nbformat_minor": 2
}
