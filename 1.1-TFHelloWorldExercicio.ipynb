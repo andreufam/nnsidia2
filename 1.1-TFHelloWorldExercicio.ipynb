{
 "cells": [
  {
   "cell_type": "markdown",
   "metadata": {},
   "source": [
    "# Exercício I"
   ]
  },
  {
   "cell_type": "code",
   "execution_count": null,
   "metadata": {
    "collapsed": true
   },
   "outputs": [],
   "source": [
    "import tensorflow as tf"
   ]
  },
  {
   "cell_type": "markdown",
   "metadata": {},
   "source": [
    "### Dadas as constantes abaixo:"
   ]
  },
  {
   "cell_type": "code",
   "execution_count": null,
   "metadata": {
    "collapsed": true
   },
   "outputs": [],
   "source": [
    "a = tf.constant([5])\n",
    "b = tf.constant([2])"
   ]
  },
  {
   "cell_type": "markdown",
   "metadata": {},
   "source": [
    "Crie um objeto c com a soma de a e b:"
   ]
  },
  {
   "cell_type": "code",
   "execution_count": null,
   "metadata": {
    "collapsed": true
   },
   "outputs": [],
   "source": [
    "# código aqui"
   ]
  },
  {
   "cell_type": "markdown",
   "metadata": {},
   "source": [
    "<div align=\"right\">\n",
    "<a href=\"#sum1\" class=\"btn btn-default\" data-toggle=\"collapse\">Solução #1</a>\n",
    "<a href=\"#sum2\" class=\"btn btn-default\" data-toggle=\"collapse\">Solução #2</a>\n",
    "</div>\n",
    "<div id=\"sum1\" class=\"collapse\">\n",
    "```\n",
    "c=a+b\n",
    "```\n",
    "</div>\n",
    "<div id=\"sum2\" class=\"collapse\">\n",
    "```\n",
    "c=tf.add(a,b)\n",
    "```\n",
    "</div>"
   ]
  },
  {
   "cell_type": "code",
   "execution_count": null,
   "metadata": {
    "collapsed": true
   },
   "outputs": [],
   "source": [
    "with tf.Session() as session:\n",
    "    result = session.run(c)\n",
    "    print \"a + b: {0}\".format(result)"
   ]
  },
  {
   "cell_type": "markdown",
   "metadata": {},
   "source": [
    "---\n",
    "### Multiplique _a_ e _b_"
   ]
  },
  {
   "cell_type": "code",
   "execution_count": null,
   "metadata": {
    "collapsed": true
   },
   "outputs": [],
   "source": [
    "# código aqui"
   ]
  },
  {
   "cell_type": "markdown",
   "metadata": {},
   "source": [
    "<div align=\"right\">\n",
    "<a href=\"#mult1\" class=\"btn btn-default\" data-toggle=\"collapse\">Solução #1</a>\n",
    "</div>\n",
    "<div id=\"mult1\" class=\"collapse\">\n",
    "```\n",
    "c=a*b\n",
    "```\n",
    "</div>\n"
   ]
  },
  {
   "cell_type": "code",
   "execution_count": null,
   "metadata": {
    "collapsed": true
   },
   "outputs": [],
   "source": [
    "with tf.Session() as session:\n",
    "    result = session.run(c)\n",
    "    print \"a * b: {0}\".format(result)"
   ]
  },
  {
   "cell_type": "markdown",
   "metadata": {},
   "source": [
    "### Multiplicação de matrizes\n",
    "\n",
    "Dadas as matrizes a seguir:\n",
    "- Multiplique-as **elemento-a-elemento** atribuindo o resultado para op1;\n",
    "- Multiplique-as usando multiplicação matricial atribuindo o resultado para op2;\n",
    "\n"
   ]
  },
  {
   "cell_type": "code",
   "execution_count": null,
   "metadata": {
    "collapsed": true
   },
   "outputs": [],
   "source": [
    "matrixA = tf.constant([[2,3],[3,4]])\n",
    "matrixB = tf.constant([[2,3],[3,4]])"
   ]
  },
  {
   "cell_type": "code",
   "execution_count": null,
   "metadata": {
    "collapsed": true
   },
   "outputs": [],
   "source": [
    "# código aqui"
   ]
  },
  {
   "cell_type": "markdown",
   "metadata": {},
   "source": [
    "<div align=\"right\">\n",
    "<a href=\"#matmul1\" class=\"btn btn-default\" data-toggle=\"collapse\">Solução #1</a>\n",
    "</div>\n",
    "<div id=\"matmul1\" class=\"collapse\">\n",
    "```\n",
    "op1=matrixA * matrixB\n",
    "op2=tf.matmul(matrixA,matrixB)\n",
    "```\n",
    "</div>"
   ]
  },
  {
   "cell_type": "code",
   "execution_count": null,
   "metadata": {
    "collapsed": true
   },
   "outputs": [],
   "source": [
    "with tf.Session() as session:\n",
    "    result = session.run(op1)\n",
    "    print \"Multiplicação elemento-a-elemento: \\n\", result\n",
    "\n",
    "    result = session.run(op2)\n",
    "    print \"Multiplicação matricial: \\n\", result"
   ]
  },
  {
   "cell_type": "markdown",
   "metadata": {},
   "source": [
    "---\n",
    "### Assinale o valor de _a_ para _b_ e então exiba o novo valor de _b_: "
   ]
  },
  {
   "cell_type": "code",
   "execution_count": null,
   "metadata": {
    "collapsed": true,
    "scrolled": true
   },
   "outputs": [],
   "source": [
    "a = tf.constant(1000)\n",
    "b = tf.Variable(0)\n",
    "\n",
    "update = tf.assign(b, a)\n",
    "init_op = tf.global_variables_initializer()"
   ]
  },
  {
   "cell_type": "code",
   "execution_count": null,
   "metadata": {
    "collapsed": true
   },
   "outputs": [],
   "source": [
    "# código aqui"
   ]
  },
  {
   "cell_type": "markdown",
   "metadata": {},
   "source": [
    "<div align=\"right\">\n",
    "<a href=\"#assign\" class=\"btn btn-default\" data-toggle=\"collapse\">Solução</a>\n",
    "</div>\n",
    "<div id=\"assign\" class=\"collapse\">\n",
    "```\n",
    "a=tf.constant(1000)\n",
    "b=tf.Variable(0)\n",
    "init_op = tf.global_variables_initializer()\n",
    "update = tf.assign(b,a)\n",
    "with tf.Session() as session:\n",
    "    session.run(init_op) \n",
    "    session.run(update) \n",
    "    print(session.run(b))\n",
    "```\n",
    "</div>"
   ]
  },
  {
   "cell_type": "markdown",
   "metadata": {},
   "source": [
    "---\n",
    "### Sequência de Fibonacci\n",
    "\n",
    "Imprima os dez primeiros valores da __sequência de Fibonacci__ usando TensorFlow:</b></h3>\n",
    "\n",
    "A sequência de fibonnacci é definida como: <br><br>\n",
    "$$F_{n} = F_{n-1} + F_{n-2}$$<br>\n",
    "Ou seja: 1,1,2,3,5,8,13,21...\n",
    "\n",
    "\n"
   ]
  },
  {
   "cell_type": "code",
   "execution_count": null,
   "metadata": {
    "collapsed": true
   },
   "outputs": [],
   "source": [
    "# código aqui"
   ]
  },
  {
   "cell_type": "markdown",
   "metadata": {},
   "source": [
    "<div align=\"right\">\n",
    "<a href=\"#fibonacci-solution\" class=\"btn btn-default\" data-toggle=\"collapse\">Solução #1</a>\n",
    "<a href=\"#fibonacci-solution2\" class=\"btn btn-default\" data-toggle=\"collapse\">Solução #2</a>\n",
    "</div>\n",
    "\n",
    "\n",
    "<div id=\"fibonacci-solution\" class=\"collapse\">\n",
    "```\n",
    "a=tf.Variable(0)\n",
    "b=tf.Variable(1)\n",
    "temp=tf.Variable(0)\n",
    "c=a+b\n",
    "\n",
    "update1=tf.assign(temp,c)\n",
    "update2=tf.assign(a,b)\n",
    "update3=tf.assign(b,temp)\n",
    "\n",
    "init_op = tf.global_variables_initializer()\n",
    "with tf.Session() as s:\n",
    "\ts.run(init_op)\n",
    "\tfor _ in range(10):\n",
    "\t\tprint(s.run(a))\n",
    "\t\ts.run(update1)\n",
    "\t\ts.run(update2)\n",
    "\t\ts.run(update3)\n",
    "```\n",
    "</div>\n",
    "\n",
    "\n",
    "<div id=\"fibonacci-solution2\" class=\"collapse\">\n",
    "```\n",
    "f = [tf.constant(1),tf.constant(1)]\n",
    "\n",
    "for i in range(2,10):\n",
    "\ttemp = f[i-1] + f[i-2]\n",
    "\tf.append(temp)\n",
    "\n",
    "with tf.Session() as sess:\n",
    "\tresult = sess.run(f)\n",
    "\tprint result\n",
    "```\n",
    "</div>"
   ]
  },
  {
   "cell_type": "markdown",
   "metadata": {},
   "source": [
    "---\n",
    "\n",
    "### Escreva a expressão _c_ = 2 * _a - b_, definindo placeholders _a_ e _b_:\n",
    "\n"
   ]
  },
  {
   "cell_type": "code",
   "execution_count": null,
   "metadata": {
    "collapsed": true
   },
   "outputs": [],
   "source": [
    "# código aqui"
   ]
  },
  {
   "cell_type": "markdown",
   "metadata": {},
   "source": [
    "<div align=\"right\">\n",
    "<a href=\"#placeholder\" class=\"btn btn-default\" data-toggle=\"collapse\">Solução</a>\n",
    "</div>\n",
    "\n",
    "\n",
    "<div id=\"placeholder\" class=\"collapse\">\n",
    "```\n",
    "\n",
    "a=tf.placeholder(tf.float32)\n",
    "b=tf.placeholder(tf.float32)\n",
    "\n",
    "c=2*a -b\n",
    "\n",
    "dictionary = {a:[2,2],b:[3,4]}\n",
    "with tf.Session() as session:\n",
    "\tprint session.run(c,feed_dict=dictionary)\n",
    "```\n",
    "</div>"
   ]
  },
  {
   "cell_type": "markdown",
   "metadata": {},
   "source": [
    "### Modifique a sua expressão anterior para usar algumas das operações a seguir:\n",
    "\n",
    "<div class=\"alert alert-info alertinfo\">\n",
    "<font size = 3><strong>Exemplos de funções:</strong></font>  \n",
    "<br>\n",
    "tf.div(x, y)<br />\n",
    "tf.square(x)<br />\n",
    "tf.sqrt(x)<br />\n",
    "tf.pow(x, y)<br />\n",
    "tf.exp(x)<br />\n",
    "tf.log(x)<br />\n",
    "tf.cos(x)<br />\n",
    "tf.sin(x)<br /> <br>\n",
    "\n",
    "Você também pode usar [mais operações]( https://www.tensorflow.org/versions/r1.1/api_docs/python/math_ops.html)\n",
    "</div>"
   ]
  },
  {
   "cell_type": "code",
   "execution_count": null,
   "metadata": {
    "collapsed": true
   },
   "outputs": [],
   "source": [
    "a = tf.constant(5.)\n",
    "b = tf.constant(2.)"
   ]
  },
  {
   "cell_type": "markdown",
   "metadata": {},
   "source": [
    "Crie uma variável **`c`** para receber o valor de uma operação (à sua escolha):"
   ]
  },
  {
   "cell_type": "code",
   "execution_count": null,
   "metadata": {
    "collapsed": true
   },
   "outputs": [],
   "source": [
    "# código aqui"
   ]
  },
  {
   "cell_type": "markdown",
   "metadata": {},
   "source": [
    "\n",
    "<div align=\"right\">\n",
    "<a href=\"#operations\" class=\"btn btn-default\" data-toggle=\"collapse\">Solução</a>\n",
    "</div>\n",
    "\n",
    "\n",
    "<div id=\"operations\" class=\"collapse\">\n",
    "```\n",
    "c=tf.sin(a)\n",
    "\n",
    "with tf.Session() as session:\n",
    "    result = session.run(c)\n",
    "    print \"c =: {}\".format(result)\n",
    "```\n",
    "</div>"
   ]
  },
  {
   "cell_type": "markdown",
   "metadata": {},
   "source": [
    "É isso por agora!"
   ]
  }
 ],
 "metadata": {
  "anaconda-cloud": {},
  "kernelspec": {
   "display_name": "Python 3",
   "language": "python",
   "name": "python3"
  },
  "language_info": {
   "codemirror_mode": {
    "name": "ipython",
    "version": 3
   },
   "file_extension": ".py",
   "mimetype": "text/x-python",
   "name": "python",
   "nbconvert_exporter": "python",
   "pygments_lexer": "ipython3",
   "version": "3.6.3"
  },
  "widgets": {
   "state": {},
   "version": "1.1.2"
  }
 },
 "nbformat": 4,
 "nbformat_minor": 1
}
