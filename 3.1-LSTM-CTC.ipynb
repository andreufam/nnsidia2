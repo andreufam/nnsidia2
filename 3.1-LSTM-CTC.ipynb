{
 "cells": [
  {
   "cell_type": "markdown",
   "metadata": {
    "colab_type": "text",
    "id": "dAQKRt2QVszq"
   },
   "source": [
    "#  LSTMs/GRUs e a CTC"
   ]
  },
  {
   "cell_type": "markdown",
   "metadata": {
    "colab_type": "text",
    "id": "MRviJ-oBVszr"
   },
   "source": [
    "Até agora, usamos células em RNNs que consistiam de neurônios artificiais tradicionais. Agora, vamos passar a usar células que implementam memória de um ponto de vista funcional. Elas podem ser usadas no lugar de qualquer célula/unidade tradicional de uma RNN, sendo responsável por ler, escrever ou lembrar de informação fluindo no modelo. \n",
    "\n",
    "A LSTM, em particular, consiste basicamente de uma unidade linear (a celula de informação propriamente dita) envoltas por três portas lógicas, responsáveis pela manutenção dos dados. Uma é responsável por permitir que dados fluam para a célulade informação (entrada), uma pela saída da célula e a última é responável por lembrar ou esquecer de dados de acordo com as necessidades da rede. A GRU é uma versão mais simplificada da LSTM. Ela combina portas da LSTM em menos portas, produzindo um modelo menor.\n",
    "\n",
    "Estas unidades ajuam a resolver o problema de manter estados, porque a rede pode escolher esquecê-los se já não servem mais. Desta forma, o problema dos gradientes é menos importantes com LSTMs e GRUs. De fato, LSTMs e GRUs são tão convenientes que, na prática, pouco se usam RNNs com células que não sejam estas.\n",
    "\n",
    "Nesta aula, vamos usar LSTMs em problemas de reconhecimento de escrita.\n",
    "\n",
    "### Arquitetura Long Short-Term Memory \n",
    "\n",
    "Neste texto, vamos considerar que uma LSTM é formada por três portas lógicas: \"Input\" ou \"Write\", responsável pela escrita na LSTM de dados vindos do resto da RNN; \"Output\" ou \"Read\", responsável pela saída da LSTM para o resto da RNN; e \"Keep\" ou \"Forget\", rsponsável pela manutenção ou modificação de dados armazenados na LSTM.\n",
    "\n",
    "<img src=https://ibm.box.com/shared/static/zx10duv5egw0baw6gh2hzsgr8ex45gsg.png width=\"720\"/>\n",
    "<center>*Diagrama de uma Long Short-Term Memory Unit*</center>\n",
    "\n",
    "Se você estiver mais interssado em saber sobre LSTMs e suas variantes, incluindo GRUs, leia o blog: http://colah.github.io/posts/2015-08-Understanding-LSTMs/"
   ]
  },
  {
   "cell_type": "markdown",
   "metadata": {
    "colab_type": "text",
    "id": "3AqDncHQVszs"
   },
   "source": [
    "# Connectionist Temporal Classification"
   ]
  },
  {
   "cell_type": "markdown",
   "metadata": {
    "colab_type": "text",
    "id": "hqijIyQHVszs"
   },
   "source": [
    "Um típico pipeline de reconhecimento temporal, em deep learning, envolve uma rede neural para reconhecimento combinada com algum mecanismo que garanta a consistência no tempo.\n",
    "\n",
    "Por exemplo, na imagem abaixo, temos a representação de uma arquitetura usada em reconhecimento de fala. Nela, os componente neurais (os módulos em azul) são responsáveis por identificar o fonema apartir de algum sinal de entrada (o espectograma, features MEL ou o sinal puro de som, observados em um _frame_ de som). O componente de consistência temporal (no exemplo, a barra roxa que representa a função CTC, mas poderia ser uma HMM), por sua vez, lida com a sequência de possíveis fonemas sendo identificados para entender o que está sendo dito em geral. Em suma, este componente trata do contexto geral.\n",
    "\n",
    "![](images/ctc1.png)\n",
    "\n",
    "Em redes neurais, uma possibilidade para o componente temporal é a função CTC (Connectionist Temporal Classification) proposta por Alex Graves para o problema de reconhecimento de escrita manual (ftp://ftp.idsia.ch/pub/juergen/icml2006.pdf)."
   ]
  },
  {
   "cell_type": "markdown",
   "metadata": {
    "colab_type": "text",
    "id": "90fi8XePVszt"
   },
   "source": [
    "Tomando como exemplo o problema de escrita manual, imagine que o usuário escreveu 'dançar'.\n",
    "\n",
    "![](images/dancar.png)\n",
    "\n",
    "Digamos que o nosso modelo está reconhecendo a terceira letra da palavra como sendo \"u\". Podemos dizer que o modelo está aproximando a probabilidade $p$(${\\bf y}$ = 'u' | ${\\bf x}$ = segmento de imagem correspondente à terceira letra em dançar) como a convicção que a rede neural, que está observando aquele segmento de imagem, tem de se tratar de um 'u'. Contudo, o correto seria 'n', algo que pode ser observado pelo contexto todo da palavra, já que 'dançar' é muito mais provavelmente uma palavra do Português que 'dauçar'.\n",
    "\n",
    "Assim, em vez de aprender uma letra por vez, é melhor aprender a sequência de letras que faz mais sentido.\n",
    "\n",
    "Cada sequência pode ser vista como um caminho (representado por $\\pi$) que passa por cada letra reconhecida em cada instante no tempo (com saída softmax $y_{\\pi_t}$). Assim, a probabilidade de uma sequência observada ao longo de $T$ instantes de tempo pode ser descrita como:\n",
    "\n",
    "$$p(\\pi|{\\bf x}) = \\prod_{t}^{T}{y_{\\pi_t}}$$\n",
    "\n",
    "Ou seja, a probabilidade é dada pelo produto das saídas softmax ao longo de $T$."
   ]
  },
  {
   "cell_type": "markdown",
   "metadata": {
    "colab_type": "text",
    "id": "DwIRB6ktVszu"
   },
   "source": [
    "#### Dynamic Time Warping\n",
    "\n",
    "Mas por que precisamos fazer isso? Afinal, uma RNN/LSTM/GRU já não considera seu passado quando emite uma saída? Sim, mas na prática, nem sempre é simples dizer onde começam e terminam segmentos, nem qual o tamanho 'certo' de uma letra, nem mesmo garantir que as entradas não sejam superpostas. Para lidar com estes problemas, temos duas alternativas:\n",
    "\n",
    "* rotular cada instante no tempo e também descrever onde, mais ou menos, começam e terminam as letras -- hmm, não parece algo muito legal de fazer, né?\n",
    "* rotular uma sequência inteira e deixar a rede advinhar como ela se segmenta -- aqui é onde entra a CTC!\n",
    "\n",
    "Dado o rótulo geral $\\ell$ (por exemplo, $\\ell$ = 'dançar' para a imagem acima), a CTC corresponde à estimativa:\n",
    "\n",
    "$$p(\\ell|{\\bf x}) = \\sum_{i}{p(\\ell|\\pi_i) p(\\pi_i|{\\bf x})}$$\n",
    "\n",
    "Ou seja, a probabilidade de se ler 'dançar' é a soma das probabilidades de ver dançar em suas várias formas (ou seja, marginalizada em $\\pi$), sendo cada forma ponderada por sua possibilidade de ocorrer dada a entrada. Esse passo é chamado _dynamic time warping_.\n",
    "\n",
    "Mas como estimar a probabilidade de $p(\\ell|{\\bf x})$?"
   ]
  },
  {
   "cell_type": "markdown",
   "metadata": {
    "colab_type": "text",
    "id": "qULZa44xVszv"
   },
   "source": [
    "#### Estimando a probabilidade do rótulo, dada a entrada\n",
    "\n",
    "Para estimar $p(\\ell|{\\bf x})$, vamos usar um algoritmo de programação dinâmica, chamado _forward-backward_. Para compreendê-lo, vamos usar o exemplo dado por Alex Graves em seus artigo sobre a CTC, onde ele decodifica da palavra 'cat'.\n",
    "\n",
    "![](images/ctc-cat-graves.png)\n",
    "\n",
    "Na figura, cada linha corresponde a uma letra ou vazio (branco) e cada coluna corresponde a um instante no tempo em que uma parte daquela letra (por exemplo, uma coluna de pixels da letra) está sendo observada. As setas indicam os caminhos a serem tomados em termos de escolha de rótulos. Há três possibilidades de transição em cada instante do tempo: \n",
    "\n",
    "* permaneço com o rótulo atual (seta para mesma linha) -- ex: em tempo $t$ vi pixels em 'C'; em tempo $t+1$, continuo vendo pixels, que devem ser de 'C' ainda (mas também poderiam ser de uma letra sobreposta ou ligada); \n",
    "* vou para um próximo rótulo (seta para branco) -- ex: em tempo $t$ vi pixels em 'C'; em tempo $t+1$, não vejo mais pixels, o que sugere que 'C' acabou (mas pode não ter acabado -- posso estar apenas vendo o intervalo antes que ela continue, como seria o caso do ideograma 的); e \n",
    "* vou para o próximo rótulo previsto -- ex: em tempo $t$ não vejo pixels; em tempo $t+1$, vejo pixels, o que sugere que deve ser uma letra depois de 'C' (ou uma continuação, como vimos acima). \n",
    "\n",
    "Deste modo, o rótulo $\\ell$ = ['C','A','T'], pode ser visto como $\\ell'$ = [$\\lambda$,'C',$\\lambda$,'A',$\\lambda$,'T',$\\lambda$], onde $\\lambda$ indica um rótulo vazio (branco)."
   ]
  },
  {
   "cell_type": "markdown",
   "metadata": {
    "colab_type": "text",
    "id": "N2gfELqFVszv"
   },
   "source": [
    "A ideia chave para estimar $p(\\ell|{\\bf x})$ é que a soma sobre os caminhos correspondentes a uma rotulação pode ser decomposta em uma soma iterativa correspondente aos prefixos daquela rotulação. Estas iterações podem ser calculadas de forma eficiente com variáveis recursivas $\\alpha$ e $\\beta$ que correspondem ao visto antes e depois do tempo $t$.\n",
    "\n",
    "$$p(\\ell|{\\bf x}) = \\sum_{s=1}^{\\ell'}{\\frac{\\alpha_t(s) \\beta_t(s)}{y^{(t)}_{\\ell'_s}}}$$\n",
    "\n",
    "Note que $\\alpha$ e $\\beta$ dependem da saída $y$ da RNN. Assim, durante o treino, cada novo conjunto de previsões da RNN é avaliado usando $p(\\ell|{\\bf x})$ e os neurônios modificam seus pesos de acordo com o gradiente desta função, dado por: \n",
    "\n",
    "$$\\frac{\\partial p(\\ell|{\\bf x})}{\\partial {y^{(t)}_k}} = \\frac{1}{{y^{(t)}_k}^2} \\sum_{s | \\ell'_s = k}{\\alpha_t(s) \\beta_t(s)}$$\n",
    "\n",
    "Para detalhes sobre a CTC, leia o artigo em http://www.cs.toronto.edu/~graves/icml_2006.pdf."
   ]
  },
  {
   "cell_type": "markdown",
   "metadata": {
    "colab_type": "text",
    "id": "CgsSN11ZVszw"
   },
   "source": [
    "O tensorflow implementa a CTC como `nn.ctc.loss()`. A seguir, temos um exemplo de uso."
   ]
  },
  {
   "cell_type": "code",
   "execution_count": 1,
   "metadata": {
    "colab": {},
    "colab_type": "code",
    "id": "XGbBUlTTVszx",
    "outputId": "05256479-c237-4022-affd-3e921f7eabb2"
   },
   "outputs": [
    {
     "name": "stderr",
     "output_type": "stream",
     "text": [
      "E:\\Anaconda\\lib\\site-packages\\h5py\\__init__.py:34: FutureWarning: Conversion of the second argument of issubdtype from `float` to `np.floating` is deprecated. In future, it will be treated as `np.float64 == np.dtype(float).type`.\n",
      "  from ._conv import register_converters as _register_converters\n"
     ]
    }
   ],
   "source": [
    "#  Compatibility imports\n",
    "from __future__ import absolute_import\n",
    "from __future__ import division\n",
    "from __future__ import print_function\n",
    "\n",
    "import time\n",
    "import tensorflow as tf\n",
    "import numpy as np\n",
    "import pickle\n",
    "import random\n",
    "\n",
    "import matplotlib.pyplot as plt\n",
    "%matplotlib inline\n",
    "\n",
    "from six.moves import xrange as range"
   ]
  },
  {
   "cell_type": "markdown",
   "metadata": {
    "colab_type": "text",
    "id": "4GnnCKMKVsz3"
   },
   "source": [
    "Para testarmos a CTC, vamos usar uma pequena coleção de imagens que representam os dígitos de 0 a 9. Cada imagem corresponde a uma sequência aleatória de dígitos de comprimento variável (e número de digitos variáveis)."
   ]
  },
  {
   "cell_type": "code",
   "execution_count": 3,
   "metadata": {
    "colab": {},
    "colab_type": "code",
    "id": "IbJw3sBFVsz4"
   },
   "outputs": [],
   "source": [
    "with open('data/test_varlen.pkl', 'rb') as f:\n",
    "    data = pickle.load(f, encoding='latin1')"
   ]
  },
  {
   "cell_type": "code",
   "execution_count": 4,
   "metadata": {
    "colab": {},
    "colab_type": "code",
    "id": "e12t94LoVsz6",
    "outputId": "c2fd3d84-6841-417d-f8c9-357cbe2f6afb"
   },
   "outputs": [
    {
     "name": "stdout",
     "output_type": "stream",
     "text": [
      "['0', '1', '2', '3', '4', '5', '6', '7', '8', '9']\n",
      "10\n",
      "instances 100\n",
      "height_0: 9\n",
      "width_0: 38\n"
     ]
    }
   ],
   "source": [
    "print (data['chars'])\n",
    "print (len(data['chars']))\n",
    "print ('instances', len(data['x']))\n",
    "# height and weight for first image\n",
    "print ('height_0:', len(data['x'][0]))\n",
    "print ('width_0:', len(data['x'][0][0]))"
   ]
  },
  {
   "cell_type": "markdown",
   "metadata": {
    "colab_type": "text",
    "id": "bZlu7q2tVsz9"
   },
   "source": [
    "Abaixo, podemos ver as primeiras duas sequências de dígitos, uma com 4 dígitos (38 pixels de largura) e outra com 9 dígitos (em 60 pixels de largura). O rótulo correspondente à primeira sequência indica os dígitos que estão presentes (0, 1, 2 e 3). Para a segunda, são 4, 5, 6, 7, 8, 9, 5, 3 e 7. Todas as imagens na coleção têm 8 pixels de altura."
   ]
  },
  {
   "cell_type": "code",
   "execution_count": 5,
   "metadata": {
    "colab": {},
    "colab_type": "code",
    "collapsed": true,
    "id": "I9yZrPfKVsz-"
   },
   "outputs": [],
   "source": [
    "slabs = [(np.asarray(data['x'][i]), np.asarray(data['y'][i])) \n",
    "         for i in range(len(data['x']))]"
   ]
  },
  {
   "cell_type": "code",
   "execution_count": 6,
   "metadata": {
    "colab": {},
    "colab_type": "code",
    "id": "yh2XIHCkVs0A",
    "outputId": "e1e25836-8776-441a-ed2d-ae5c3d5242ca"
   },
   "outputs": [
    {
     "name": "stdout",
     "output_type": "stream",
     "text": [
      "[0 1 2 3]\n",
      "[4 5 6 7 8 9 5 3 7]\n"
     ]
    },
    {
     "data": {
      "image/png": "[encoded data removed]",
      "text/plain": [
       "<matplotlib.figure.Figure at 0x208867e87f0>"
      ]
     },
     "metadata": {},
     "output_type": "display_data"
    },
    {
     "data": {
      "image/png": "[encoded data removed]",
      "text/plain": [
       "<matplotlib.figure.Figure at 0x208888e2320>"
      ]
     },
     "metadata": {},
     "output_type": "display_data"
    }
   ],
   "source": [
    "for i in range(2):\n",
    "    print(slabs[i][1])\n",
    "    plt.figure()\n",
    "    plt.imshow(slabs[i][0], cmap = 'gray', interpolation = 'nearest')"
   ]
  },
  {
   "cell_type": "markdown",
   "metadata": {
    "colab_type": "text",
    "id": "JodWbeTWVs0E"
   },
   "source": [
    "A função a seguir lê esta coleção para a memória, fornecendo as sequências, seus rótulos correspondentes e o número de sequências válidas lidas. "
   ]
  },
  {
   "cell_type": "code",
   "execution_count": 9,
   "metadata": {
    "colab": {},
    "colab_type": "code",
    "collapsed": true,
    "id": "ig_iofl7Vs0F"
   },
   "outputs": [],
   "source": [
    "# load the training or test dataset from disk\n",
    "def get_toy_data(pname):\n",
    "    with open(pname, 'rb') as f:\n",
    "        data = pickle.load(f, encoding='latin1')\n",
    "    num_examples = len(data['x'])\n",
    "    # note that image shape is modified to columns x lines, since it is expected a\n",
    "    # fixed number of lines and a varying number of columns\n",
    "    seqs = np.asarray([data['x'][t].swapaxes(0, 1) \n",
    "                       for t in range(num_examples) if len(data['y'][t]) > 0])\n",
    "    # get label seqs\n",
    "    labs = np.asarray([np.asarray(data['y'][t]) \n",
    "                       for t in range(num_examples) if len(data['y'][t]) > 0])\n",
    "    return seqs, labs, len(labs)"
   ]
  },
  {
   "cell_type": "markdown",
   "metadata": {
    "colab_type": "text",
    "id": "nkmODASfVs0G"
   },
   "source": [
    "Note que as sequências são transpostas de forma a serem representadas por tantos intervalos de tempo quanto forem as suas larguras e 8 'atributos de entrada' já que isto corresponde a sua altura em pixels."
   ]
  },
  {
   "cell_type": "code",
   "execution_count": 10,
   "metadata": {
    "colab": {},
    "colab_type": "code",
    "id": "7WQkjRcBVs0H",
    "outputId": "722346e8-4db1-4fed-a3d7-b5b394dd2b78"
   },
   "outputs": [
    {
     "data": {
      "image/png": "[encoded data removed]",
      "text/plain": [
       "<matplotlib.figure.Figure at 0x20888aa7080>"
      ]
     },
     "metadata": {},
     "output_type": "display_data"
    },
    {
     "data": {
      "image/png": "[encoded data removed]",
      "text/plain": [
       "<matplotlib.figure.Figure at 0x20888ad7b38>"
      ]
     },
     "metadata": {},
     "output_type": "display_data"
    }
   ],
   "source": [
    "seqs, _, _ = get_toy_data('data/test_varlen.pkl')\n",
    "for i in range(2):\n",
    "    plt.figure()\n",
    "    plt.imshow(seqs[i], cmap = 'gray', interpolation = 'nearest')"
   ]
  },
  {
   "cell_type": "markdown",
   "metadata": {
    "colab_type": "text",
    "id": "R5LGtyrjVs0L"
   },
   "source": [
    "A função a seguir é dada apenas por conveniência. Ela permite gerar sequências aleatórias para testar a LSTM que vamos usar. Mas nesta aula vamos usar a coleção toy descrita antes."
   ]
  },
  {
   "cell_type": "code",
   "execution_count": 11,
   "metadata": {
    "colab": {},
    "colab_type": "code",
    "collapsed": true,
    "id": "j8bJ2bFRVs0M"
   },
   "outputs": [],
   "source": [
    "# generate synthetical data for training\n",
    "# useful for testing\n",
    "def fake_data(num_examples, num_features, num_labels, min_size = 10, max_size=100):\n",
    "\n",
    "    # Generating different timesteps for each fake data\n",
    "    timesteps = np.random.randint(min_size, max_size, (num_examples,))\n",
    "\n",
    "    # Generating random input\n",
    "    inputs = np.asarray([np.random.randn(t, num_features).astype(np.float32) for t in timesteps])\n",
    "\n",
    "    # Generating random label, the size must be less or equal than timestep in order to achieve the end of the lattice in max timestep\n",
    "    labels = np.asarray([np.random.randint(0, num_labels, \n",
    "                                           np.random.randint(1, inputs[i].shape[0], (1,))).astype(np.int64) \n",
    "                         for i, _ in enumerate(timesteps)])\n",
    "\n",
    "    return inputs, labels"
   ]
  },
  {
   "cell_type": "markdown",
   "metadata": {
    "colab_type": "text",
    "id": "keeq13adVs0R"
   },
   "source": [
    "Para usar a CTC do tensorflow, precisamos colocar as sequências de entrada no formato esparso usado pela função."
   ]
  },
  {
   "cell_type": "code",
   "execution_count": 12,
   "metadata": {
    "colab": {},
    "colab_type": "code",
    "collapsed": true,
    "id": "kYFMkCYqVs0S"
   },
   "outputs": [],
   "source": [
    "def sparse_tuple_from(sequences, dtype=np.int32):\n",
    "    \"\"\"Create a sparse representention of x.\n",
    "    Args:\n",
    "        sequences: a list of lists of type dtype where each element is a sequence\n",
    "    Returns:\n",
    "        A tuple with (indices, values, shape)\n",
    "    \"\"\"\n",
    "    indices = []\n",
    "    values = []\n",
    "\n",
    "    for n, seq in enumerate(sequences):\n",
    "        indices.extend(zip([n]*len(seq), range(len(seq))))\n",
    "        values.extend(seq)\n",
    "\n",
    "    indices = np.asarray(indices, dtype=np.int64)\n",
    "    values = np.asarray(values, dtype=dtype)\n",
    "    shape = np.asarray([len(sequences), np.asarray(indices).max(0)[1]+1], dtype=np.int64)\n",
    "\n",
    "    return indices, values, shape"
   ]
  },
  {
   "cell_type": "markdown",
   "metadata": {
    "colab_type": "text",
    "id": "ZUE7ztUSVs0X"
   },
   "source": [
    "Por exemplo, duas sequências de entrada, (0, 1, 3) e (5, 8, 9, 3, 2), serão convertidas para a forma I, V, S, onde I corresponde a uma sequência de pares que indicam o índice da sequência e do valor dentro da sequência; V corresponde às observações correspondentes a cada par; S é um par indicando o número de sequências e o número máximos de valores observados."
   ]
  },
  {
   "cell_type": "code",
   "execution_count": 13,
   "metadata": {
    "colab": {},
    "colab_type": "code",
    "id": "2YRQl0DbVs0X",
    "outputId": "6c47604b-9035-46db-fc59-119fdd42c199"
   },
   "outputs": [
    {
     "data": {
      "text/plain": [
       "(array([[0, 0],\n",
       "        [0, 1],\n",
       "        [0, 2],\n",
       "        [1, 0],\n",
       "        [1, 1],\n",
       "        [1, 2],\n",
       "        [1, 3],\n",
       "        [1, 4]], dtype=int64),\n",
       " array([0, 1, 3, 5, 8, 9, 3, 2]),\n",
       " array([2, 5], dtype=int64))"
      ]
     },
     "execution_count": 13,
     "metadata": {},
     "output_type": "execute_result"
    }
   ],
   "source": [
    "sparse_tuple_from([[0,1,3], [5,8,9,3,2]])"
   ]
  },
  {
   "cell_type": "markdown",
   "metadata": {
    "colab_type": "text",
    "id": "zL1tZr4ZVs0a"
   },
   "source": [
    "Como as sequências de entrada podem ter tamanho variável, elas precisam ser preenchidas para terem o mesmo tamanho em um certo batch. A função a seguir faz isso:"
   ]
  },
  {
   "cell_type": "code",
   "execution_count": 15,
   "metadata": {
    "colab": {},
    "colab_type": "code",
    "collapsed": true,
    "id": "BAVzmpl-Vs0c"
   },
   "outputs": [],
   "source": [
    "def pad_sequences(sequences, maxlen=None, dtype=np.float32,\n",
    "                  padding='post', truncating='post', value=0.):\n",
    "    '''Pads each sequence to the same length: the length of the longest sequence.\n",
    "        If maxlen is provided, any sequence longer than maxlen is truncated to\n",
    "        maxlen. Truncation happens off either the beginning or the end\n",
    "        (default) of the sequence. Supports post-padding (default) and\n",
    "        pre-padding.\n",
    "\n",
    "        Args:\n",
    "            sequences: list of lists where each element is a sequence\n",
    "            maxlen: int, maximum length\n",
    "            dtype: type to cast the resulting sequence.\n",
    "            padding: 'pre' or 'post', pad either before or after each sequence.\n",
    "            truncating: 'pre' or 'post', remove values from sequences larger\n",
    "            than maxlen either in the beginning or in the end of the sequence\n",
    "            value: float, value to pad the sequences to the desired value.\n",
    "        Returns\n",
    "            x: numpy array with dimensions (number_of_sequences, maxlen)\n",
    "            lengths: numpy array with the original sequence lengths\n",
    "    '''\n",
    "    lengths = np.asarray([len(s) for s in sequences], dtype=np.int64)\n",
    "\n",
    "    nb_samples = len(sequences)\n",
    "    if maxlen is None:\n",
    "        maxlen = np.max(lengths)\n",
    "\n",
    "    # take the sample shape from the first non empty sequence\n",
    "    # checking for consistency in the main loop below.\n",
    "    sample_shape = tuple()\n",
    "    for s in sequences:\n",
    "        if len(s) > 0:\n",
    "            sample_shape = np.asarray(s).shape[1:]\n",
    "            break\n",
    "\n",
    "    x = (np.ones((nb_samples, maxlen) + sample_shape) * value).astype(dtype)\n",
    "    for idx, s in enumerate(sequences):\n",
    "        if len(s) == 0:\n",
    "            continue  # empty list was found\n",
    "        if truncating == 'pre':\n",
    "            trunc = s[-maxlen:]\n",
    "        elif truncating == 'post':\n",
    "            trunc = s[:maxlen]\n",
    "        else:\n",
    "            raise ValueError('Truncating type \"%s\" not understood' % truncating)\n",
    "\n",
    "        # check `trunc` has expected shape\n",
    "        trunc = np.asarray(trunc, dtype=dtype)\n",
    "        if trunc.shape[1:] != sample_shape:\n",
    "            raise ValueError('Shape of sample %s of sequence at position %s is different from expected shape %s' %\n",
    "                             (trunc.shape[1:], idx, sample_shape))\n",
    "\n",
    "        if padding == 'post':\n",
    "            x[idx, :len(trunc)] = trunc\n",
    "        elif padding == 'pre':\n",
    "            x[idx, -len(trunc):] = trunc\n",
    "        else:\n",
    "            raise ValueError('Padding type \"%s\" not understood' % padding)\n",
    "    return x, lengths"
   ]
  },
  {
   "cell_type": "code",
   "execution_count": 16,
   "metadata": {
    "colab": {},
    "colab_type": "code",
    "id": "9qBgKJrQVs0e",
    "outputId": "cdbb13a7-40d6-4449-8930-19329be10bbd"
   },
   "outputs": [
    {
     "name": "stdout",
     "output_type": "stream",
     "text": [
      "(array([[1., 2., 0., 0.],\n",
      "       [1., 2., 3., 4.],\n",
      "       [1., 2., 3., 0.]], dtype=float32), array([2, 4, 3], dtype=int64))\n",
      "(array([[0., 0., 1., 2.],\n",
      "       [1., 2., 3., 4.],\n",
      "       [0., 1., 2., 3.]], dtype=float32), array([2, 4, 3], dtype=int64))\n",
      "(array([[1., 2., 0.],\n",
      "       [1., 2., 3.],\n",
      "       [1., 2., 3.]], dtype=float32), array([2, 4, 3], dtype=int64))\n"
     ]
    }
   ],
   "source": [
    "print (pad_sequences([[1,2],[1,2,3,4],[1,2,3]]))\n",
    "print (pad_sequences([[1,2],[1,2,3,4],[1,2,3]], padding = 'pre'))\n",
    "print (pad_sequences([[1,2],[1,2,3,4],[1,2,3]], maxlen = 3))"
   ]
  },
  {
   "cell_type": "markdown",
   "metadata": {
    "colab_type": "text",
    "id": "valUVKQUVs0h"
   },
   "source": [
    "Finalmente, temos a nossa rede, usando uma RNN dinâmica com células LSTM na camada oculta."
   ]
  },
  {
   "cell_type": "code",
   "execution_count": 17,
   "metadata": {
    "colab": {},
    "colab_type": "code",
    "collapsed": true,
    "id": "4s9OaeNDVs0i"
   },
   "outputs": [],
   "source": [
    "tf.reset_default_graph()\n",
    "\n",
    "# number de pixel in columns\n",
    "num_features = 9 \n",
    "# total of digits + blank = 11 symbols\n",
    "num_classes = 11\n",
    "\n",
    "# Hyper-parameters\n",
    "num_hidden = 35\n",
    "learning_rate = 1e-2\n",
    "\n",
    "# data\n",
    "ftrain = 'data/train_varlen.pkl'\n",
    "input_seqs, seq_labels, num_examples = get_toy_data(ftrain)"
   ]
  },
  {
   "cell_type": "code",
   "execution_count": 22,
   "metadata": {
    "colab": {},
    "colab_type": "code",
    "id": "zk07kFpcVs0l"
   },
   "outputs": [
    {
     "ename": "ValueError",
     "evalue": "Variable rnn/lstm_cell/kernel already exists, disallowed. Did you mean to set reuse=True or reuse=tf.AUTO_REUSE in VarScope? Originally defined at:\n\n  File \"E:\\Anaconda\\lib\\site-packages\\tensorflow\\python\\framework\\ops.py\", line 1717, in __init__\n    self._traceback = tf_stack.extract_stack()\n  File \"E:\\Anaconda\\lib\\site-packages\\tensorflow\\python\\framework\\ops.py\", line 3155, in create_op\n    op_def=op_def)\n  File \"E:\\Anaconda\\lib\\site-packages\\tensorflow\\python\\util\\deprecation.py\", line 454, in new_func\n    return func(*args, **kwargs)\n",
     "output_type": "error",
     "traceback": [
      "\u001b[1;31m---------------------------------------------------------------------------\u001b[0m",
      "\u001b[1;31mValueError\u001b[0m                                Traceback (most recent call last)",
      "\u001b[1;32m<ipython-input-22-0550b53bc544>\u001b[0m in \u001b[0;36m<module>\u001b[1;34m()\u001b[0m\n\u001b[0;32m     17\u001b[0m \u001b[1;33m\u001b[0m\u001b[0m\n\u001b[0;32m     18\u001b[0m \u001b[1;31m# The second output is the last state and we will no use that\u001b[0m\u001b[1;33m\u001b[0m\u001b[1;33m\u001b[0m\u001b[0m\n\u001b[1;32m---> 19\u001b[1;33m \u001b[0moutputs\u001b[0m\u001b[1;33m,\u001b[0m \u001b[0m_\u001b[0m \u001b[1;33m=\u001b[0m \u001b[0mtf\u001b[0m\u001b[1;33m.\u001b[0m\u001b[0mnn\u001b[0m\u001b[1;33m.\u001b[0m\u001b[0mdynamic_rnn\u001b[0m\u001b[1;33m(\u001b[0m\u001b[0mcell\u001b[0m\u001b[1;33m,\u001b[0m \u001b[0minputs\u001b[0m\u001b[1;33m,\u001b[0m \u001b[0mseq_len\u001b[0m\u001b[1;33m,\u001b[0m \u001b[0mdtype\u001b[0m\u001b[1;33m=\u001b[0m\u001b[0mtf\u001b[0m\u001b[1;33m.\u001b[0m\u001b[0mfloat32\u001b[0m\u001b[1;33m)\u001b[0m\u001b[1;33m\u001b[0m\u001b[0m\n\u001b[0m\u001b[0;32m     20\u001b[0m \u001b[1;33m\u001b[0m\u001b[0m\n\u001b[0;32m     21\u001b[0m \u001b[1;31m# Reshaping to apply the same weights over the timesteps\u001b[0m\u001b[1;33m\u001b[0m\u001b[1;33m\u001b[0m\u001b[0m\n",
      "\u001b[1;32mE:\\Anaconda\\lib\\site-packages\\tensorflow\\python\\ops\\rnn.py\u001b[0m in \u001b[0;36mdynamic_rnn\u001b[1;34m(cell, inputs, sequence_length, initial_state, dtype, parallel_iterations, swap_memory, time_major, scope)\u001b[0m\n\u001b[0;32m    629\u001b[0m         \u001b[0mswap_memory\u001b[0m\u001b[1;33m=\u001b[0m\u001b[0mswap_memory\u001b[0m\u001b[1;33m,\u001b[0m\u001b[1;33m\u001b[0m\u001b[0m\n\u001b[0;32m    630\u001b[0m         \u001b[0msequence_length\u001b[0m\u001b[1;33m=\u001b[0m\u001b[0msequence_length\u001b[0m\u001b[1;33m,\u001b[0m\u001b[1;33m\u001b[0m\u001b[0m\n\u001b[1;32m--> 631\u001b[1;33m         dtype=dtype)\n\u001b[0m\u001b[0;32m    632\u001b[0m \u001b[1;33m\u001b[0m\u001b[0m\n\u001b[0;32m    633\u001b[0m     \u001b[1;31m# Outputs of _dynamic_rnn_loop are always shaped [time, batch, depth].\u001b[0m\u001b[1;33m\u001b[0m\u001b[1;33m\u001b[0m\u001b[0m\n",
      "\u001b[1;32mE:\\Anaconda\\lib\\site-packages\\tensorflow\\python\\ops\\rnn.py\u001b[0m in \u001b[0;36m_dynamic_rnn_loop\u001b[1;34m(cell, inputs, initial_state, parallel_iterations, swap_memory, sequence_length, dtype)\u001b[0m\n\u001b[0;32m    826\u001b[0m       \u001b[0mparallel_iterations\u001b[0m\u001b[1;33m=\u001b[0m\u001b[0mparallel_iterations\u001b[0m\u001b[1;33m,\u001b[0m\u001b[1;33m\u001b[0m\u001b[0m\n\u001b[0;32m    827\u001b[0m       \u001b[0mmaximum_iterations\u001b[0m\u001b[1;33m=\u001b[0m\u001b[0mtime_steps\u001b[0m\u001b[1;33m,\u001b[0m\u001b[1;33m\u001b[0m\u001b[0m\n\u001b[1;32m--> 828\u001b[1;33m       swap_memory=swap_memory)\n\u001b[0m\u001b[0;32m    829\u001b[0m \u001b[1;33m\u001b[0m\u001b[0m\n\u001b[0;32m    830\u001b[0m   \u001b[1;31m# Unpack final output if not using output tuples.\u001b[0m\u001b[1;33m\u001b[0m\u001b[1;33m\u001b[0m\u001b[0m\n",
      "\u001b[1;32mE:\\Anaconda\\lib\\site-packages\\tensorflow\\python\\ops\\control_flow_ops.py\u001b[0m in \u001b[0;36mwhile_loop\u001b[1;34m(cond, body, loop_vars, shape_invariants, parallel_iterations, back_prop, swap_memory, name, maximum_iterations, return_same_structure)\u001b[0m\n\u001b[0;32m   3230\u001b[0m       \u001b[0mops\u001b[0m\u001b[1;33m.\u001b[0m\u001b[0madd_to_collection\u001b[0m\u001b[1;33m(\u001b[0m\u001b[0mops\u001b[0m\u001b[1;33m.\u001b[0m\u001b[0mGraphKeys\u001b[0m\u001b[1;33m.\u001b[0m\u001b[0mWHILE_CONTEXT\u001b[0m\u001b[1;33m,\u001b[0m \u001b[0mloop_context\u001b[0m\u001b[1;33m)\u001b[0m\u001b[1;33m\u001b[0m\u001b[0m\n\u001b[0;32m   3231\u001b[0m     result = loop_context.BuildLoop(cond, body, loop_vars, shape_invariants,\n\u001b[1;32m-> 3232\u001b[1;33m                                     return_same_structure)\n\u001b[0m\u001b[0;32m   3233\u001b[0m     \u001b[1;32mif\u001b[0m \u001b[0mmaximum_iterations\u001b[0m \u001b[1;32mis\u001b[0m \u001b[1;32mnot\u001b[0m \u001b[1;32mNone\u001b[0m\u001b[1;33m:\u001b[0m\u001b[1;33m\u001b[0m\u001b[0m\n\u001b[0;32m   3234\u001b[0m       \u001b[1;32mreturn\u001b[0m \u001b[0mresult\u001b[0m\u001b[1;33m[\u001b[0m\u001b[1;36m1\u001b[0m\u001b[1;33m]\u001b[0m\u001b[1;33m\u001b[0m\u001b[0m\n",
      "\u001b[1;32mE:\\Anaconda\\lib\\site-packages\\tensorflow\\python\\ops\\control_flow_ops.py\u001b[0m in \u001b[0;36mBuildLoop\u001b[1;34m(self, pred, body, loop_vars, shape_invariants, return_same_structure)\u001b[0m\n\u001b[0;32m   2950\u001b[0m       \u001b[1;32mwith\u001b[0m \u001b[0mops\u001b[0m\u001b[1;33m.\u001b[0m\u001b[0mget_default_graph\u001b[0m\u001b[1;33m(\u001b[0m\u001b[1;33m)\u001b[0m\u001b[1;33m.\u001b[0m\u001b[0m_mutation_lock\u001b[0m\u001b[1;33m(\u001b[0m\u001b[1;33m)\u001b[0m\u001b[1;33m:\u001b[0m  \u001b[1;31m# pylint: disable=protected-access\u001b[0m\u001b[1;33m\u001b[0m\u001b[0m\n\u001b[0;32m   2951\u001b[0m         original_body_result, exit_vars = self._BuildLoop(\n\u001b[1;32m-> 2952\u001b[1;33m             pred, body, original_loop_vars, loop_vars, shape_invariants)\n\u001b[0m\u001b[0;32m   2953\u001b[0m     \u001b[1;32mfinally\u001b[0m\u001b[1;33m:\u001b[0m\u001b[1;33m\u001b[0m\u001b[0m\n\u001b[0;32m   2954\u001b[0m       \u001b[0mself\u001b[0m\u001b[1;33m.\u001b[0m\u001b[0mExit\u001b[0m\u001b[1;33m(\u001b[0m\u001b[1;33m)\u001b[0m\u001b[1;33m\u001b[0m\u001b[0m\n",
      "\u001b[1;32mE:\\Anaconda\\lib\\site-packages\\tensorflow\\python\\ops\\control_flow_ops.py\u001b[0m in \u001b[0;36m_BuildLoop\u001b[1;34m(self, pred, body, original_loop_vars, loop_vars, shape_invariants)\u001b[0m\n\u001b[0;32m   2885\u001b[0m         flat_sequence=vars_for_body_with_tensor_arrays)\n\u001b[0;32m   2886\u001b[0m     \u001b[0mpre_summaries\u001b[0m \u001b[1;33m=\u001b[0m \u001b[0mops\u001b[0m\u001b[1;33m.\u001b[0m\u001b[0mget_collection\u001b[0m\u001b[1;33m(\u001b[0m\u001b[0mops\u001b[0m\u001b[1;33m.\u001b[0m\u001b[0mGraphKeys\u001b[0m\u001b[1;33m.\u001b[0m\u001b[0m_SUMMARY_COLLECTION\u001b[0m\u001b[1;33m)\u001b[0m  \u001b[1;31m# pylint: disable=protected-access\u001b[0m\u001b[1;33m\u001b[0m\u001b[0m\n\u001b[1;32m-> 2887\u001b[1;33m     \u001b[0mbody_result\u001b[0m \u001b[1;33m=\u001b[0m \u001b[0mbody\u001b[0m\u001b[1;33m(\u001b[0m\u001b[1;33m*\u001b[0m\u001b[0mpacked_vars_for_body\u001b[0m\u001b[1;33m)\u001b[0m\u001b[1;33m\u001b[0m\u001b[0m\n\u001b[0m\u001b[0;32m   2888\u001b[0m     \u001b[0mpost_summaries\u001b[0m \u001b[1;33m=\u001b[0m \u001b[0mops\u001b[0m\u001b[1;33m.\u001b[0m\u001b[0mget_collection\u001b[0m\u001b[1;33m(\u001b[0m\u001b[0mops\u001b[0m\u001b[1;33m.\u001b[0m\u001b[0mGraphKeys\u001b[0m\u001b[1;33m.\u001b[0m\u001b[0m_SUMMARY_COLLECTION\u001b[0m\u001b[1;33m)\u001b[0m  \u001b[1;31m# pylint: disable=protected-access\u001b[0m\u001b[1;33m\u001b[0m\u001b[0m\n\u001b[0;32m   2889\u001b[0m     \u001b[1;32mif\u001b[0m \u001b[1;32mnot\u001b[0m \u001b[0mnest\u001b[0m\u001b[1;33m.\u001b[0m\u001b[0mis_sequence\u001b[0m\u001b[1;33m(\u001b[0m\u001b[0mbody_result\u001b[0m\u001b[1;33m)\u001b[0m\u001b[1;33m:\u001b[0m\u001b[1;33m\u001b[0m\u001b[0m\n",
      "\u001b[1;32mE:\\Anaconda\\lib\\site-packages\\tensorflow\\python\\ops\\control_flow_ops.py\u001b[0m in \u001b[0;36m<lambda>\u001b[1;34m(i, lv)\u001b[0m\n\u001b[0;32m   3199\u001b[0m         cond = lambda i, lv: (  # pylint: disable=g-long-lambda\n\u001b[0;32m   3200\u001b[0m             math_ops.logical_and(i < maximum_iterations, orig_cond(*lv)))\n\u001b[1;32m-> 3201\u001b[1;33m         \u001b[0mbody\u001b[0m \u001b[1;33m=\u001b[0m \u001b[1;32mlambda\u001b[0m \u001b[0mi\u001b[0m\u001b[1;33m,\u001b[0m \u001b[0mlv\u001b[0m\u001b[1;33m:\u001b[0m \u001b[1;33m(\u001b[0m\u001b[0mi\u001b[0m \u001b[1;33m+\u001b[0m \u001b[1;36m1\u001b[0m\u001b[1;33m,\u001b[0m \u001b[0morig_body\u001b[0m\u001b[1;33m(\u001b[0m\u001b[1;33m*\u001b[0m\u001b[0mlv\u001b[0m\u001b[1;33m)\u001b[0m\u001b[1;33m)\u001b[0m\u001b[1;33m\u001b[0m\u001b[0m\n\u001b[0m\u001b[0;32m   3202\u001b[0m \u001b[1;33m\u001b[0m\u001b[0m\n\u001b[0;32m   3203\u001b[0m     \u001b[1;32mif\u001b[0m \u001b[0mcontext\u001b[0m\u001b[1;33m.\u001b[0m\u001b[0mexecuting_eagerly\u001b[0m\u001b[1;33m(\u001b[0m\u001b[1;33m)\u001b[0m\u001b[1;33m:\u001b[0m\u001b[1;33m\u001b[0m\u001b[0m\n",
      "\u001b[1;32mE:\\Anaconda\\lib\\site-packages\\tensorflow\\python\\ops\\rnn.py\u001b[0m in \u001b[0;36m_time_step\u001b[1;34m(time, output_ta_t, state)\u001b[0m\n\u001b[0;32m    795\u001b[0m           \u001b[0mcall_cell\u001b[0m\u001b[1;33m=\u001b[0m\u001b[0mcall_cell\u001b[0m\u001b[1;33m,\u001b[0m\u001b[1;33m\u001b[0m\u001b[0m\n\u001b[0;32m    796\u001b[0m           \u001b[0mstate_size\u001b[0m\u001b[1;33m=\u001b[0m\u001b[0mstate_size\u001b[0m\u001b[1;33m,\u001b[0m\u001b[1;33m\u001b[0m\u001b[0m\n\u001b[1;32m--> 797\u001b[1;33m           skip_conditionals=True)\n\u001b[0m\u001b[0;32m    798\u001b[0m     \u001b[1;32melse\u001b[0m\u001b[1;33m:\u001b[0m\u001b[1;33m\u001b[0m\u001b[0m\n\u001b[0;32m    799\u001b[0m       \u001b[1;33m(\u001b[0m\u001b[0moutput\u001b[0m\u001b[1;33m,\u001b[0m \u001b[0mnew_state\u001b[0m\u001b[1;33m)\u001b[0m \u001b[1;33m=\u001b[0m \u001b[0mcall_cell\u001b[0m\u001b[1;33m(\u001b[0m\u001b[1;33m)\u001b[0m\u001b[1;33m\u001b[0m\u001b[0m\n",
      "\u001b[1;32mE:\\Anaconda\\lib\\site-packages\\tensorflow\\python\\ops\\rnn.py\u001b[0m in \u001b[0;36m_rnn_step\u001b[1;34m(time, sequence_length, min_sequence_length, max_sequence_length, zero_output, state, call_cell, state_size, skip_conditionals)\u001b[0m\n\u001b[0;32m    250\u001b[0m     \u001b[1;31m# steps.  This is faster when max_seq_len is equal to the number of unrolls\u001b[0m\u001b[1;33m\u001b[0m\u001b[1;33m\u001b[0m\u001b[0m\n\u001b[0;32m    251\u001b[0m     \u001b[1;31m# (which is typical for dynamic_rnn).\u001b[0m\u001b[1;33m\u001b[0m\u001b[1;33m\u001b[0m\u001b[0m\n\u001b[1;32m--> 252\u001b[1;33m     \u001b[0mnew_output\u001b[0m\u001b[1;33m,\u001b[0m \u001b[0mnew_state\u001b[0m \u001b[1;33m=\u001b[0m \u001b[0mcall_cell\u001b[0m\u001b[1;33m(\u001b[0m\u001b[1;33m)\u001b[0m\u001b[1;33m\u001b[0m\u001b[0m\n\u001b[0m\u001b[0;32m    253\u001b[0m     \u001b[0mnest\u001b[0m\u001b[1;33m.\u001b[0m\u001b[0massert_same_structure\u001b[0m\u001b[1;33m(\u001b[0m\u001b[0mstate\u001b[0m\u001b[1;33m,\u001b[0m \u001b[0mnew_state\u001b[0m\u001b[1;33m)\u001b[0m\u001b[1;33m\u001b[0m\u001b[0m\n\u001b[0;32m    254\u001b[0m     \u001b[0mnew_state\u001b[0m \u001b[1;33m=\u001b[0m \u001b[0mnest\u001b[0m\u001b[1;33m.\u001b[0m\u001b[0mflatten\u001b[0m\u001b[1;33m(\u001b[0m\u001b[0mnew_state\u001b[0m\u001b[1;33m)\u001b[0m\u001b[1;33m\u001b[0m\u001b[0m\n",
      "\u001b[1;32mE:\\Anaconda\\lib\\site-packages\\tensorflow\\python\\ops\\rnn.py\u001b[0m in \u001b[0;36m<lambda>\u001b[1;34m()\u001b[0m\n\u001b[0;32m    783\u001b[0m \u001b[1;33m\u001b[0m\u001b[0m\n\u001b[0;32m    784\u001b[0m     \u001b[0minput_t\u001b[0m \u001b[1;33m=\u001b[0m \u001b[0mnest\u001b[0m\u001b[1;33m.\u001b[0m\u001b[0mpack_sequence_as\u001b[0m\u001b[1;33m(\u001b[0m\u001b[0mstructure\u001b[0m\u001b[1;33m=\u001b[0m\u001b[0minputs\u001b[0m\u001b[1;33m,\u001b[0m \u001b[0mflat_sequence\u001b[0m\u001b[1;33m=\u001b[0m\u001b[0minput_t\u001b[0m\u001b[1;33m)\u001b[0m\u001b[1;33m\u001b[0m\u001b[0m\n\u001b[1;32m--> 785\u001b[1;33m     \u001b[0mcall_cell\u001b[0m \u001b[1;33m=\u001b[0m \u001b[1;32mlambda\u001b[0m\u001b[1;33m:\u001b[0m \u001b[0mcell\u001b[0m\u001b[1;33m(\u001b[0m\u001b[0minput_t\u001b[0m\u001b[1;33m,\u001b[0m \u001b[0mstate\u001b[0m\u001b[1;33m)\u001b[0m\u001b[1;33m\u001b[0m\u001b[0m\n\u001b[0m\u001b[0;32m    786\u001b[0m \u001b[1;33m\u001b[0m\u001b[0m\n\u001b[0;32m    787\u001b[0m     \u001b[1;32mif\u001b[0m \u001b[0msequence_length\u001b[0m \u001b[1;32mis\u001b[0m \u001b[1;32mnot\u001b[0m \u001b[1;32mNone\u001b[0m\u001b[1;33m:\u001b[0m\u001b[1;33m\u001b[0m\u001b[0m\n",
      "\u001b[1;32mE:\\Anaconda\\lib\\site-packages\\tensorflow\\python\\ops\\rnn_cell_impl.py\u001b[0m in \u001b[0;36m__call__\u001b[1;34m(self, inputs, state, scope, *args, **kwargs)\u001b[0m\n\u001b[0;32m    327\u001b[0m     \u001b[1;31m# method.  See the class docstring for more details.\u001b[0m\u001b[1;33m\u001b[0m\u001b[1;33m\u001b[0m\u001b[0m\n\u001b[0;32m    328\u001b[0m     return base_layer.Layer.__call__(self, inputs, state, scope=scope,\n\u001b[1;32m--> 329\u001b[1;33m                                      *args, **kwargs)\n\u001b[0m\u001b[0;32m    330\u001b[0m \u001b[1;33m\u001b[0m\u001b[0m\n\u001b[0;32m    331\u001b[0m \u001b[1;33m\u001b[0m\u001b[0m\n",
      "\u001b[1;32mE:\\Anaconda\\lib\\site-packages\\tensorflow\\python\\layers\\base.py\u001b[0m in \u001b[0;36m__call__\u001b[1;34m(self, inputs, *args, **kwargs)\u001b[0m\n\u001b[0;32m    360\u001b[0m \u001b[1;33m\u001b[0m\u001b[0m\n\u001b[0;32m    361\u001b[0m       \u001b[1;31m# Actually call layer\u001b[0m\u001b[1;33m\u001b[0m\u001b[1;33m\u001b[0m\u001b[0m\n\u001b[1;32m--> 362\u001b[1;33m       \u001b[0moutputs\u001b[0m \u001b[1;33m=\u001b[0m \u001b[0msuper\u001b[0m\u001b[1;33m(\u001b[0m\u001b[0mLayer\u001b[0m\u001b[1;33m,\u001b[0m \u001b[0mself\u001b[0m\u001b[1;33m)\u001b[0m\u001b[1;33m.\u001b[0m\u001b[0m__call__\u001b[0m\u001b[1;33m(\u001b[0m\u001b[0minputs\u001b[0m\u001b[1;33m,\u001b[0m \u001b[1;33m*\u001b[0m\u001b[0margs\u001b[0m\u001b[1;33m,\u001b[0m \u001b[1;33m**\u001b[0m\u001b[0mkwargs\u001b[0m\u001b[1;33m)\u001b[0m\u001b[1;33m\u001b[0m\u001b[0m\n\u001b[0m\u001b[0;32m    363\u001b[0m \u001b[1;33m\u001b[0m\u001b[0m\n\u001b[0;32m    364\u001b[0m     \u001b[1;32mif\u001b[0m \u001b[1;32mnot\u001b[0m \u001b[0mcontext\u001b[0m\u001b[1;33m.\u001b[0m\u001b[0mexecuting_eagerly\u001b[0m\u001b[1;33m(\u001b[0m\u001b[1;33m)\u001b[0m\u001b[1;33m:\u001b[0m\u001b[1;33m\u001b[0m\u001b[0m\n",
      "\u001b[1;32mE:\\Anaconda\\lib\\site-packages\\tensorflow\\python\\keras\\engine\\base_layer.py\u001b[0m in \u001b[0;36m__call__\u001b[1;34m(self, inputs, *args, **kwargs)\u001b[0m\n\u001b[0;32m    726\u001b[0m         \u001b[1;32mif\u001b[0m \u001b[0mall\u001b[0m\u001b[1;33m(\u001b[0m\u001b[0mhasattr\u001b[0m\u001b[1;33m(\u001b[0m\u001b[0mx\u001b[0m\u001b[1;33m,\u001b[0m \u001b[1;34m'shape'\u001b[0m\u001b[1;33m)\u001b[0m \u001b[1;32mfor\u001b[0m \u001b[0mx\u001b[0m \u001b[1;32min\u001b[0m \u001b[0minput_list\u001b[0m\u001b[1;33m)\u001b[0m\u001b[1;33m:\u001b[0m\u001b[1;33m\u001b[0m\u001b[0m\n\u001b[0;32m    727\u001b[0m           \u001b[0minput_shapes\u001b[0m \u001b[1;33m=\u001b[0m \u001b[0mnest\u001b[0m\u001b[1;33m.\u001b[0m\u001b[0mmap_structure\u001b[0m\u001b[1;33m(\u001b[0m\u001b[1;32mlambda\u001b[0m \u001b[0mx\u001b[0m\u001b[1;33m:\u001b[0m \u001b[0mx\u001b[0m\u001b[1;33m.\u001b[0m\u001b[0mshape\u001b[0m\u001b[1;33m,\u001b[0m \u001b[0minputs\u001b[0m\u001b[1;33m)\u001b[0m\u001b[1;33m\u001b[0m\u001b[0m\n\u001b[1;32m--> 728\u001b[1;33m         \u001b[0mself\u001b[0m\u001b[1;33m.\u001b[0m\u001b[0mbuild\u001b[0m\u001b[1;33m(\u001b[0m\u001b[0minput_shapes\u001b[0m\u001b[1;33m)\u001b[0m\u001b[1;33m\u001b[0m\u001b[0m\n\u001b[0m\u001b[0;32m    729\u001b[0m         \u001b[0mself\u001b[0m\u001b[1;33m.\u001b[0m\u001b[0mbuilt\u001b[0m \u001b[1;33m=\u001b[0m \u001b[1;32mTrue\u001b[0m\u001b[1;33m\u001b[0m\u001b[0m\n\u001b[0;32m    730\u001b[0m \u001b[1;33m\u001b[0m\u001b[0m\n",
      "\u001b[1;32mE:\\Anaconda\\lib\\site-packages\\tensorflow\\python\\ops\\rnn_cell_impl.py\u001b[0m in \u001b[0;36mbuild\u001b[1;34m(self, inputs_shape)\u001b[0m\n\u001b[0;32m    775\u001b[0m         \u001b[0mshape\u001b[0m\u001b[1;33m=\u001b[0m\u001b[1;33m[\u001b[0m\u001b[0minput_depth\u001b[0m \u001b[1;33m+\u001b[0m \u001b[0mh_depth\u001b[0m\u001b[1;33m,\u001b[0m \u001b[1;36m4\u001b[0m \u001b[1;33m*\u001b[0m \u001b[0mself\u001b[0m\u001b[1;33m.\u001b[0m\u001b[0m_num_units\u001b[0m\u001b[1;33m]\u001b[0m\u001b[1;33m,\u001b[0m\u001b[1;33m\u001b[0m\u001b[0m\n\u001b[0;32m    776\u001b[0m         \u001b[0minitializer\u001b[0m\u001b[1;33m=\u001b[0m\u001b[0mself\u001b[0m\u001b[1;33m.\u001b[0m\u001b[0m_initializer\u001b[0m\u001b[1;33m,\u001b[0m\u001b[1;33m\u001b[0m\u001b[0m\n\u001b[1;32m--> 777\u001b[1;33m         partitioner=maybe_partitioner)\n\u001b[0m\u001b[0;32m    778\u001b[0m     \u001b[1;32mif\u001b[0m \u001b[0mself\u001b[0m\u001b[1;33m.\u001b[0m\u001b[0mdtype\u001b[0m \u001b[1;32mis\u001b[0m \u001b[1;32mNone\u001b[0m\u001b[1;33m:\u001b[0m\u001b[1;33m\u001b[0m\u001b[0m\n\u001b[0;32m    779\u001b[0m       \u001b[0minitializer\u001b[0m \u001b[1;33m=\u001b[0m \u001b[0minit_ops\u001b[0m\u001b[1;33m.\u001b[0m\u001b[0mzeros_initializer\u001b[0m\u001b[1;33m\u001b[0m\u001b[0m\n",
      "\u001b[1;32mE:\\Anaconda\\lib\\site-packages\\tensorflow\\python\\keras\\engine\\base_layer.py\u001b[0m in \u001b[0;36madd_variable\u001b[1;34m(self, *args, **kwargs)\u001b[0m\n\u001b[0;32m    459\u001b[0m   \u001b[1;32mdef\u001b[0m \u001b[0madd_variable\u001b[0m\u001b[1;33m(\u001b[0m\u001b[0mself\u001b[0m\u001b[1;33m,\u001b[0m \u001b[1;33m*\u001b[0m\u001b[0margs\u001b[0m\u001b[1;33m,\u001b[0m \u001b[1;33m**\u001b[0m\u001b[0mkwargs\u001b[0m\u001b[1;33m)\u001b[0m\u001b[1;33m:\u001b[0m\u001b[1;33m\u001b[0m\u001b[0m\n\u001b[0;32m    460\u001b[0m     \u001b[1;34m\"\"\"Alias for `add_weight`.\"\"\"\u001b[0m\u001b[1;33m\u001b[0m\u001b[0m\n\u001b[1;32m--> 461\u001b[1;33m     \u001b[1;32mreturn\u001b[0m \u001b[0mself\u001b[0m\u001b[1;33m.\u001b[0m\u001b[0madd_weight\u001b[0m\u001b[1;33m(\u001b[0m\u001b[1;33m*\u001b[0m\u001b[0margs\u001b[0m\u001b[1;33m,\u001b[0m \u001b[1;33m**\u001b[0m\u001b[0mkwargs\u001b[0m\u001b[1;33m)\u001b[0m\u001b[1;33m\u001b[0m\u001b[0m\n\u001b[0m\u001b[0;32m    462\u001b[0m \u001b[1;33m\u001b[0m\u001b[0m\n\u001b[0;32m    463\u001b[0m   def add_weight(self,\n",
      "\u001b[1;32mE:\\Anaconda\\lib\\site-packages\\tensorflow\\python\\layers\\base.py\u001b[0m in \u001b[0;36madd_weight\u001b[1;34m(self, name, shape, dtype, initializer, regularizer, trainable, constraint, use_resource, synchronization, aggregation, partitioner)\u001b[0m\n\u001b[0;32m    274\u001b[0m             \u001b[0msynchronization\u001b[0m\u001b[1;33m=\u001b[0m\u001b[0msynchronization\u001b[0m\u001b[1;33m,\u001b[0m\u001b[1;33m\u001b[0m\u001b[0m\n\u001b[0;32m    275\u001b[0m             \u001b[0maggregation\u001b[0m\u001b[1;33m=\u001b[0m\u001b[0maggregation\u001b[0m\u001b[1;33m,\u001b[0m\u001b[1;33m\u001b[0m\u001b[0m\n\u001b[1;32m--> 276\u001b[1;33m             getter=vs.get_variable)\n\u001b[0m\u001b[0;32m    277\u001b[0m \u001b[1;33m\u001b[0m\u001b[0m\n\u001b[0;32m    278\u001b[0m         \u001b[1;32mif\u001b[0m \u001b[0mregularizer\u001b[0m\u001b[1;33m:\u001b[0m\u001b[1;33m\u001b[0m\u001b[0m\n",
      "\u001b[1;32mE:\\Anaconda\\lib\\site-packages\\tensorflow\\python\\keras\\engine\\base_layer.py\u001b[0m in \u001b[0;36madd_weight\u001b[1;34m(self, name, shape, dtype, initializer, regularizer, trainable, constraint, partitioner, use_resource, synchronization, aggregation, getter)\u001b[0m\n\u001b[0;32m    563\u001b[0m         \u001b[0muse_resource\u001b[0m\u001b[1;33m=\u001b[0m\u001b[0muse_resource\u001b[0m\u001b[1;33m,\u001b[0m\u001b[1;33m\u001b[0m\u001b[0m\n\u001b[0;32m    564\u001b[0m         \u001b[0msynchronization\u001b[0m\u001b[1;33m=\u001b[0m\u001b[0msynchronization\u001b[0m\u001b[1;33m,\u001b[0m\u001b[1;33m\u001b[0m\u001b[0m\n\u001b[1;32m--> 565\u001b[1;33m         aggregation=aggregation)\n\u001b[0m\u001b[0;32m    566\u001b[0m \u001b[1;33m\u001b[0m\u001b[0m\n\u001b[0;32m    567\u001b[0m     \u001b[1;32mif\u001b[0m \u001b[0mregularizer\u001b[0m \u001b[1;32mis\u001b[0m \u001b[1;32mnot\u001b[0m \u001b[1;32mNone\u001b[0m\u001b[1;33m:\u001b[0m\u001b[1;33m\u001b[0m\u001b[0m\n",
      "\u001b[1;32mE:\\Anaconda\\lib\\site-packages\\tensorflow\\python\\training\\checkpointable\\base.py\u001b[0m in \u001b[0;36m_add_variable_with_custom_getter\u001b[1;34m(self, name, shape, dtype, initializer, getter, overwrite, **kwargs_for_getter)\u001b[0m\n\u001b[0;32m    533\u001b[0m     new_variable = getter(\n\u001b[0;32m    534\u001b[0m         \u001b[0mname\u001b[0m\u001b[1;33m=\u001b[0m\u001b[0mname\u001b[0m\u001b[1;33m,\u001b[0m \u001b[0mshape\u001b[0m\u001b[1;33m=\u001b[0m\u001b[0mshape\u001b[0m\u001b[1;33m,\u001b[0m \u001b[0mdtype\u001b[0m\u001b[1;33m=\u001b[0m\u001b[0mdtype\u001b[0m\u001b[1;33m,\u001b[0m \u001b[0minitializer\u001b[0m\u001b[1;33m=\u001b[0m\u001b[0minitializer\u001b[0m\u001b[1;33m,\u001b[0m\u001b[1;33m\u001b[0m\u001b[0m\n\u001b[1;32m--> 535\u001b[1;33m         **kwargs_for_getter)\n\u001b[0m\u001b[0;32m    536\u001b[0m \u001b[1;33m\u001b[0m\u001b[0m\n\u001b[0;32m    537\u001b[0m     \u001b[1;31m# If we set an initializer and the variable processed it, tracking will not\u001b[0m\u001b[1;33m\u001b[0m\u001b[1;33m\u001b[0m\u001b[0m\n",
      "\u001b[1;32mE:\\Anaconda\\lib\\site-packages\\tensorflow\\python\\ops\\variable_scope.py\u001b[0m in \u001b[0;36mget_variable\u001b[1;34m(name, shape, dtype, initializer, regularizer, trainable, collections, caching_device, partitioner, validate_shape, use_resource, custom_getter, constraint, synchronization, aggregation)\u001b[0m\n\u001b[0;32m   1465\u001b[0m       \u001b[0mconstraint\u001b[0m\u001b[1;33m=\u001b[0m\u001b[0mconstraint\u001b[0m\u001b[1;33m,\u001b[0m\u001b[1;33m\u001b[0m\u001b[0m\n\u001b[0;32m   1466\u001b[0m       \u001b[0msynchronization\u001b[0m\u001b[1;33m=\u001b[0m\u001b[0msynchronization\u001b[0m\u001b[1;33m,\u001b[0m\u001b[1;33m\u001b[0m\u001b[0m\n\u001b[1;32m-> 1467\u001b[1;33m       aggregation=aggregation)\n\u001b[0m\u001b[0;32m   1468\u001b[0m \u001b[1;33m\u001b[0m\u001b[0m\n\u001b[0;32m   1469\u001b[0m \u001b[1;33m\u001b[0m\u001b[0m\n",
      "\u001b[1;32mE:\\Anaconda\\lib\\site-packages\\tensorflow\\python\\ops\\variable_scope.py\u001b[0m in \u001b[0;36mget_variable\u001b[1;34m(self, var_store, name, shape, dtype, initializer, regularizer, reuse, trainable, collections, caching_device, partitioner, validate_shape, use_resource, custom_getter, constraint, synchronization, aggregation)\u001b[0m\n\u001b[0;32m   1215\u001b[0m           \u001b[0mconstraint\u001b[0m\u001b[1;33m=\u001b[0m\u001b[0mconstraint\u001b[0m\u001b[1;33m,\u001b[0m\u001b[1;33m\u001b[0m\u001b[0m\n\u001b[0;32m   1216\u001b[0m           \u001b[0msynchronization\u001b[0m\u001b[1;33m=\u001b[0m\u001b[0msynchronization\u001b[0m\u001b[1;33m,\u001b[0m\u001b[1;33m\u001b[0m\u001b[0m\n\u001b[1;32m-> 1217\u001b[1;33m           aggregation=aggregation)\n\u001b[0m\u001b[0;32m   1218\u001b[0m \u001b[1;33m\u001b[0m\u001b[0m\n\u001b[0;32m   1219\u001b[0m   def _get_partitioned_variable(self,\n",
      "\u001b[1;32mE:\\Anaconda\\lib\\site-packages\\tensorflow\\python\\ops\\variable_scope.py\u001b[0m in \u001b[0;36mget_variable\u001b[1;34m(self, name, shape, dtype, initializer, regularizer, reuse, trainable, collections, caching_device, partitioner, validate_shape, use_resource, custom_getter, constraint, synchronization, aggregation)\u001b[0m\n\u001b[0;32m    525\u001b[0m           \u001b[0mconstraint\u001b[0m\u001b[1;33m=\u001b[0m\u001b[0mconstraint\u001b[0m\u001b[1;33m,\u001b[0m\u001b[1;33m\u001b[0m\u001b[0m\n\u001b[0;32m    526\u001b[0m           \u001b[0msynchronization\u001b[0m\u001b[1;33m=\u001b[0m\u001b[0msynchronization\u001b[0m\u001b[1;33m,\u001b[0m\u001b[1;33m\u001b[0m\u001b[0m\n\u001b[1;32m--> 527\u001b[1;33m           aggregation=aggregation)\n\u001b[0m\u001b[0;32m    528\u001b[0m \u001b[1;33m\u001b[0m\u001b[0m\n\u001b[0;32m    529\u001b[0m   def _get_partitioned_variable(self,\n",
      "\u001b[1;32mE:\\Anaconda\\lib\\site-packages\\tensorflow\\python\\ops\\variable_scope.py\u001b[0m in \u001b[0;36m_true_getter\u001b[1;34m(name, shape, dtype, initializer, regularizer, reuse, trainable, collections, caching_device, partitioner, validate_shape, use_resource, constraint, synchronization, aggregation)\u001b[0m\n\u001b[0;32m    479\u001b[0m           \u001b[0mconstraint\u001b[0m\u001b[1;33m=\u001b[0m\u001b[0mconstraint\u001b[0m\u001b[1;33m,\u001b[0m\u001b[1;33m\u001b[0m\u001b[0m\n\u001b[0;32m    480\u001b[0m           \u001b[0msynchronization\u001b[0m\u001b[1;33m=\u001b[0m\u001b[0msynchronization\u001b[0m\u001b[1;33m,\u001b[0m\u001b[1;33m\u001b[0m\u001b[0m\n\u001b[1;32m--> 481\u001b[1;33m           aggregation=aggregation)\n\u001b[0m\u001b[0;32m    482\u001b[0m \u001b[1;33m\u001b[0m\u001b[0m\n\u001b[0;32m    483\u001b[0m     \u001b[1;31m# Set trainable value based on synchronization value.\u001b[0m\u001b[1;33m\u001b[0m\u001b[1;33m\u001b[0m\u001b[0m\n",
      "\u001b[1;32mE:\\Anaconda\\lib\\site-packages\\tensorflow\\python\\ops\\variable_scope.py\u001b[0m in \u001b[0;36m_get_single_variable\u001b[1;34m(self, name, shape, dtype, initializer, regularizer, partition_info, reuse, trainable, collections, caching_device, validate_shape, use_resource, constraint, synchronization, aggregation)\u001b[0m\n\u001b[0;32m    846\u001b[0m                          \u001b[1;34m\"reuse=tf.AUTO_REUSE in VarScope? \"\u001b[0m\u001b[1;33m\u001b[0m\u001b[0m\n\u001b[0;32m    847\u001b[0m                          \"Originally defined at:\\n\\n%s\" % (\n\u001b[1;32m--> 848\u001b[1;33m                              name, \"\".join(traceback.format_list(tb))))\n\u001b[0m\u001b[0;32m    849\u001b[0m       \u001b[0mfound_var\u001b[0m \u001b[1;33m=\u001b[0m \u001b[0mself\u001b[0m\u001b[1;33m.\u001b[0m\u001b[0m_vars\u001b[0m\u001b[1;33m[\u001b[0m\u001b[0mname\u001b[0m\u001b[1;33m]\u001b[0m\u001b[1;33m\u001b[0m\u001b[0m\n\u001b[0;32m    850\u001b[0m       \u001b[1;32mif\u001b[0m \u001b[1;32mnot\u001b[0m \u001b[0mshape\u001b[0m\u001b[1;33m.\u001b[0m\u001b[0mis_compatible_with\u001b[0m\u001b[1;33m(\u001b[0m\u001b[0mfound_var\u001b[0m\u001b[1;33m.\u001b[0m\u001b[0mget_shape\u001b[0m\u001b[1;33m(\u001b[0m\u001b[1;33m)\u001b[0m\u001b[1;33m)\u001b[0m\u001b[1;33m:\u001b[0m\u001b[1;33m\u001b[0m\u001b[0m\n",
      "\u001b[1;31mValueError\u001b[0m: Variable rnn/lstm_cell/kernel already exists, disallowed. Did you mean to set reuse=True or reuse=tf.AUTO_REUSE in VarScope? Originally defined at:\n\n  File \"E:\\Anaconda\\lib\\site-packages\\tensorflow\\python\\framework\\ops.py\", line 1717, in __init__\n    self._traceback = tf_stack.extract_stack()\n  File \"E:\\Anaconda\\lib\\site-packages\\tensorflow\\python\\framework\\ops.py\", line 3155, in create_op\n    op_def=op_def)\n  File \"E:\\Anaconda\\lib\\site-packages\\tensorflow\\python\\util\\deprecation.py\", line 454, in new_func\n    return func(*args, **kwargs)\n"
     ]
    }
   ],
   "source": [
    "# e.g: output of a convolutional net\n",
    "# Has size [batch_size, max_stepsize, num_features], but the\n",
    "# batch_size and max_stepsize can vary along each step\n",
    "inputs = tf.placeholder(tf.float32, [None, None, num_features])\n",
    "shape = tf.shape(inputs)\n",
    "batch_s, max_timesteps = shape[0], shape[1]\n",
    "\n",
    "# Here we use sparse_placeholder that will generate a\n",
    "# SparseTensor required by ctc_loss op.\n",
    "targets = tf.sparse_placeholder(tf.int32)\n",
    "\n",
    "# 1d array of size [batch_size]\n",
    "seq_len = tf.placeholder(tf.int32, [None])\n",
    "\n",
    "# Defining the cell\n",
    "cell = tf.contrib.rnn.LSTMCell(num_hidden, state_is_tuple=True)\n",
    "\n",
    "# The second output is the last state and we will no use that\n",
    "outputs, _ = tf.nn.dynamic_rnn(cell, inputs, seq_len, dtype=tf.float32)\n",
    "\n",
    "# Reshaping to apply the same weights over the timesteps\n",
    "outputs = tf.reshape(outputs, [-1, num_hidden])\n",
    "\n",
    "# W init = truncated normal with mean 0 and stdev=0.1\n",
    "# bias init Zero initialization\n",
    "W = tf.Variable(tf.truncated_normal([num_hidden,\n",
    "                                     num_classes],\n",
    "                                    stddev=0.1))\n",
    "b = tf.Variable(tf.constant(0., shape=[num_classes]))\n",
    "### do not include sigmoid because CTC will do that\n",
    "logits = tf.matmul(outputs, W) + b \n",
    "\n",
    "# Reshaping back to the original shape\n",
    "logits = tf.reshape(logits, [batch_s, -1, num_classes])\n",
    "# Time major\n",
    "logits = tf.transpose(logits, (1, 0, 2))\n",
    "\n",
    "loss = tf.nn.ctc_loss(targets, logits, seq_len)\n",
    "cost = tf.reduce_mean(loss)\n",
    "optimizer = tf.train.MomentumOptimizer(learning_rate,\n",
    "                                       0.9).minimize(cost)\n",
    "\n",
    "# Option 2: tf.nn.ctc_beam_search_decoder (slower but better)\n",
    "decoded, log_prob = tf.nn.ctc_greedy_decoder(logits, seq_len)\n",
    "\n",
    "# Inaccuracy: label error rate\n",
    "ler = tf.reduce_mean(tf.edit_distance(tf.cast(decoded[0], tf.int32),\n",
    "                                      targets))\n",
    "init = tf.global_variables_initializer()\n",
    "saver = tf.train.Saver()"
   ]
  },
  {
   "cell_type": "markdown",
   "metadata": {
    "colab_type": "text",
    "id": "Dl5rNhd1Vs0q"
   },
   "source": [
    "Para avaliar e nossa implementação, vamos usar uma função que usa a RNN para estimar o rótulo de uma sequência de entrada e decodifica a saída da RNN em forma de uma sequência. As sequências são exibidas antes das previstas, de forma a avaliar a RNN, tanto em treino quanto teste."
   ]
  },
  {
   "cell_type": "code",
   "execution_count": null,
   "metadata": {
    "colab": {},
    "colab_type": "code",
    "collapsed": true,
    "id": "8W65rUMHVs0q"
   },
   "outputs": [],
   "source": [
    "def show_decoded_seqs(session, X, Y):\n",
    "    # Padding input to max_time_step of this batch\n",
    "    Xp, seqlen = pad_sequences(X)\n",
    "\n",
    "    # Converting to sparse representation so as to to feed SparseTensor input\n",
    "    Ys = sparse_tuple_from(Y)\n",
    "\n",
    "    # Decoding\n",
    "    d = session.run(decoded[0], \n",
    "                    feed_dict={inputs: Xp,\n",
    "                               targets: Ys,\n",
    "                               seq_len: seqlen})\n",
    "    d_dense = tf.sparse_tensor_to_dense(d, default_value=-1)\n",
    "    dense_decoded = d_dense.eval(session=session)\n",
    "    for i, seq in enumerate(dense_decoded):\n",
    "        seq = ' '.join([str(s) for s in seq if s != -1])\n",
    "        print('\\t%d %s --> [%s]' % (i, Y[i], seq))"
   ]
  },
  {
   "cell_type": "markdown",
   "metadata": {
    "colab_type": "text",
    "id": "y6I4pmTgVs0t"
   },
   "source": [
    "A seguir, treinamos nossa RNN:"
   ]
  },
  {
   "cell_type": "code",
   "execution_count": 20,
   "metadata": {
    "colab": {},
    "colab_type": "code",
    "id": "RMF3AozwVs0u",
    "outputId": "4cf8aca3-695c-42eb-ece5-b476c153cdac"
   },
   "outputs": [
    {
     "name": "stdout",
     "output_type": "stream",
     "text": [
      "\t0 [2 2 9 6] --> []\n",
      "\t1 [5 8 9 8 4] --> []\n",
      "\t2 [5 4 1 8 3] --> []\n",
      "\t3 [0 6 5 1 5 7] --> []\n",
      "\t4 [2 1 2 9 4] --> []\n",
      "\t5 [9 4 8 5] --> []\n",
      "\t6 [3 0 3 8 5] --> []\n",
      "\t7 [8 7 0 2 7] --> []\n",
      "\t8 [7 5 3 2 0 5 1] --> []\n",
      "\t9 [5 0 1 3] --> []\n",
      " 1/10, tr_cost = 15.349, tr_ler = 0.996\n",
      " 2/10, tr_cost = 13.392, tr_ler = 0.996\n",
      "\t0 [1 5 0 4 7] --> [5]\n",
      "\t1 [9 0 3 4 1] --> []\n",
      "\t2 [2 5 6 1 0 0 8 9] --> [5]\n",
      "\t3 [6 3 0 4 4] --> []\n",
      "\t4 [2 4 7 6 0] --> [7]\n",
      "\t5 [4 6 7 8 2 9 0] --> []\n",
      "\t6 [8 3 5 9 1 6] --> [5]\n",
      "\t7 [9 7 3 6 4 7] --> [7 7]\n",
      "\t8 [3 5 7 1 6] --> [5 7]\n",
      "\t9 [8 1 8 5 4] --> [7 5]\n",
      " 3/10, tr_cost = 12.598, tr_ler = 0.929\n",
      " 4/10, tr_cost = 11.125, tr_ler = 0.830\n",
      "\t0 [9 5] --> [3 5 5]\n",
      "\t1 [8 7 2 6] --> [8 7 8 6]\n",
      "\t2 [4 0 4 7] --> [4 0 4 7]\n",
      "\t3 [5 1 6 3] --> [5 6 3]\n",
      "\t4 [7 3 1 9] --> [7 3 1 3]\n",
      "\t5 [8 3 4 2] --> [3 3 8]\n",
      "\t6 [0 4 8 9 5] --> [0 8 3 5]\n",
      "\t7 [0 3 8 6] --> [0 3 8 6]\n",
      "\t8 [0 7 5 4] --> [0 7 5 4]\n",
      "\t9 [5 1 8 7 3 9 6 2] --> [5 1 8 7 3 3 6 8]\n",
      " 5/10, tr_cost = 8.483, tr_ler = 0.602\n",
      " 6/10, tr_cost = 4.776, tr_ler = 0.278\n",
      "\t0 [5 0 3 1 5] --> [5 0 3 1 5]\n",
      "\t1 [8 4] --> [8 4]\n",
      "\t2 [3 4 0] --> [3 9 0]\n",
      "\t3 [0 7 3 4 6] --> [0 7 3 4 6]\n",
      "\t4 [9 1 0 8 3] --> [9 1 0 2 3]\n",
      "\t5 [6 0 8 1 6] --> [6 0 3 1 6]\n",
      "\t6 [7 3] --> [7 3]\n",
      "\t7 [3 2 1 0] --> [3 2 1 0]\n",
      "\t8 [5 4 9 7 5] --> [5 2 9 7 5]\n",
      "\t9 [3 0 3 8 5] --> [3 0 3 8 5]\n",
      " 7/10, tr_cost = 3.426, tr_ler = 0.208\n",
      " 8/10, tr_cost = 2.448, tr_ler = 0.138\n",
      "\t0 [8 9 1 2 4 0] --> [8 8 1 2 4 0]\n",
      "\t1 [9 4 2 3] --> [9 4 2 3]\n",
      "\t2 [1 9 0 2 8 3 4] --> [1 9 0 2 8 3 2]\n",
      "\t3 [5 0 9 2 5 8 6] --> [5 0 9 2 5 8 6]\n",
      "\t4 [3 6 7 2 1] --> [3 6 7 2 1]\n",
      "\t5 [7 9 8 6 5] --> [7 9 8 6 5]\n",
      "\t6 [2 4 1 6] --> [2 2 1 6]\n",
      "\t7 [2 8 0 5 7] --> [2 8 0 5 7]\n",
      "\t8 [2 3 0 8 5] --> [2 3 0 8 5]\n",
      "\t9 [4 3 0 4 6 3 2] --> [4 3 0 4 6 3 2]\n",
      " 9/10, tr_cost = 2.200, tr_ler = 0.112\n",
      "10/10, tr_cost = 0.882, tr_ler = 0.029\n"
     ]
    }
   ],
   "source": [
    "# You can preprocess the input data here\n",
    "Xtrain = input_seqs\n",
    "Ytrain = seq_labels\n",
    "\n",
    "batch_size = 5\n",
    "num_epochs = 10\n",
    "num_batches_per_epoch = int(num_examples/batch_size)\n",
    "\n",
    "# random cases to evaluate\n",
    "cases_to_show = np.random.randint(0, num_examples - 1, (10,))\n",
    "\n",
    "with tf.Session() as s:\n",
    "    # Initializate the weights and biases\n",
    "    init.run()\n",
    "\n",
    "    for e in range(num_epochs):\n",
    "        train_cost = train_ler = 0\n",
    "        for batch in range(num_batches_per_epoch):\n",
    "\n",
    "            # Getting the index\n",
    "            indexes = [i % num_examples \n",
    "                       for i in range(batch * batch_size, (batch + 1) * batch_size)]\n",
    "            Xtrain_b = Xtrain[indexes]\n",
    "            \n",
    "            # Padding input to max_time_step of this batch\n",
    "            Xtrain_b, seqlen_train_b = pad_sequences(Xtrain_b)\n",
    "\n",
    "            # Converting to sparse representation so as to to feed SparseTensor input\n",
    "            Ytrain_b = sparse_tuple_from(Ytrain[indexes])\n",
    "\n",
    "            feed = {inputs: Xtrain_b,\n",
    "                    targets: Ytrain_b,\n",
    "                    seq_len: seqlen_train_b}\n",
    "            batch_cost, _ = s.run([cost, optimizer], feed_dict = feed)\n",
    "            train_cost += batch_cost*batch_size\n",
    "            train_ler += s.run(ler, feed_dict=feed)*batch_size\n",
    "\n",
    "        if e % 2 == 0:\n",
    "            show_decoded_seqs(s, Xtrain[cases_to_show], \n",
    "                              Ytrain[cases_to_show])        \n",
    "            \n",
    "        # Shuffle the data\n",
    "        shuffled_indexes = np.random.permutation(num_examples)\n",
    "        Xtrain = Xtrain[shuffled_indexes]\n",
    "        Ytrain = Ytrain[shuffled_indexes]\n",
    "\n",
    "        # Metrics mean\n",
    "        train_cost /= num_examples\n",
    "        train_ler /= num_examples\n",
    "\n",
    "        log = \"%2d/%2d, tr_cost = %.3f, tr_ler = %.3f\"\n",
    "        print(log % (e+1, num_epochs, train_cost, train_ler))\n",
    "    \n",
    "    saver.save(s, \"/tmp/ctc_model\")"
   ]
  },
  {
   "cell_type": "markdown",
   "metadata": {
    "colab_type": "text",
    "id": "Hu0Fu7rhVs0x"
   },
   "source": [
    "Finalmente, testamos em nossa coleção separada de teste:"
   ]
  },
  {
   "cell_type": "code",
   "execution_count": 21,
   "metadata": {
    "colab": {},
    "colab_type": "code",
    "id": "eqsaYABIVs0x",
    "outputId": "c195bf8f-664a-4136-8831-15742b0265d8"
   },
   "outputs": [
    {
     "name": "stdout",
     "output_type": "stream",
     "text": [
      "INFO:tensorflow:Restoring parameters from /tmp/ctc_model\n",
      "Evaluation on test set. Error: 0.03181349\n",
      "\t0 [4 2 4 6 2 8] --> [4 8 4 6 2 8]\n",
      "\t1 [5 4 1 3 9 7] --> [5 1 3 9 7]\n",
      "\t2 [6 2 4 1 7] --> [6 2 4 1 7]\n",
      "\t3 [3 1 3 8 0] --> [3 1 3 8 0]\n",
      "\t4 [7 8 6 0 9 2 5] --> [7 8 6 0 9 2 5]\n",
      "\t5 [1 2 7 8 3 5] --> [2 7 8 3 5]\n",
      "\t6 [3 9 0 4] --> [3 9 0 4]\n",
      "\t7 [1 2 7 8 3 5] --> [2 7 8 3 5]\n",
      "\t8 [8 6 9 5 7 2] --> [8 6 9 5 7 2]\n",
      "\t9 [3 9 0 4] --> [3 9 0 4]\n"
     ]
    }
   ],
   "source": [
    "# Evaluate on test set\n",
    "ftest = 'data/test_varlen.pkl'\n",
    "Xtest, Ytest, num_instances = get_toy_data(ftest)\n",
    "# Padding input to max_time_step of this batch\n",
    "Xtest_p, seqlen_test_p = pad_sequences(Xtest)\n",
    "# Converting to sparse representation so as to to feed SparseTensor input\n",
    "Ytest_s = sparse_tuple_from(Ytest)\n",
    "# test cases\n",
    "cases_to_show = np.random.randint(0, num_instances - 1, (10,))\n",
    "\n",
    "with tf.Session() as s:\n",
    "    saver.restore(s, \"/tmp/ctc_model\")\n",
    "    test_ler = s.run(ler, feed_dict={inputs: Xtest_p,\n",
    "                                     targets: Ytest_s,\n",
    "                                     seq_len: seqlen_test_p})\n",
    "    print ('Evaluation on test set. Error:', test_ler)\n",
    "    show_decoded_seqs(s, Xtest[cases_to_show], \n",
    "                      Ytest[cases_to_show])"
   ]
  },
  {
   "cell_type": "markdown",
   "metadata": {
    "colab_type": "text",
    "id": "6PiBsoAcVs00"
   },
   "source": [
    "Para todos considerando seriamente a função CTC, aconselho a usar a implementação do Baidu, disponibilizada publicamente em https://github.com/baidu-research/warp-ctc e compatível com tensorflow. Ela é usada nos sistemas de reconhecimento de fala do Baidu e é muito mais eficiente que a implementação original do tensorflow para GPUs e CPUs, tanto em termos de tempo quanto estabilidade numérica (ao menos, em setembro de 2017). "
   ]
  },
  {
   "cell_type": "markdown",
   "metadata": {
    "colab_type": "text",
    "id": "14Bum2CxVs00"
   },
   "source": [
    "Alternativas à função CTC incluem (a) combinar DNNs com HMMs, mas esta parece ser uma estratégia sendo lentamente substituída, (b) RNNs para transdução de sequências (o modelo de CTC com a inclusão de dependência entre saídas e modelagem de transição de sequências, em outras palavras, um modelo de linguagem -- ver https://arxiv.org/pdf/1211.3711.pdf) e (c) uso de modelos de atenção que incluem no modelo neural o objetivo de aprender a 'olhar' para os 'segmentos' (https://arxiv.org/pdf/1506.07503v1.pdf)."
   ]
  },
  {
   "cell_type": "markdown",
   "metadata": {
    "colab_type": "text",
    "id": "_1OkIoxTVs01"
   },
   "source": [
    "Esta aula foi baseada nos exemplos de Igor Macedo Quintanilha (https://github.com/igormq/ctc_tensorflow_example) e na explicação sobre CTC de Karl N. (https://gab41.lab41.org/speech-recognition-you-down-with-ctc-8d3b558943f0), além de usar dados criados pelo gerador sintético de Rakeshvar https://github.com/rakeshvar/rnn_ctc."
   ]
  }
 ],
 "metadata": {
  "colab": {
   "name": "3.1-LSTM-CTC.ipynb",
   "provenance": [],
   "version": "0.3.2"
  },
  "kernelspec": {
   "display_name": "Python 3",
   "language": "python",
   "name": "python3"
  },
  "language_info": {
   "codemirror_mode": {
    "name": "ipython",
    "version": 3
   },
   "file_extension": ".py",
   "mimetype": "text/x-python",
   "name": "python",
   "nbconvert_exporter": "python",
   "pygments_lexer": "ipython3",
   "version": "3.6.3"
  }
 },
 "nbformat": 4,
 "nbformat_minor": 1
}
